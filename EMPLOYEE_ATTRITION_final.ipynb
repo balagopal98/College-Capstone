{
 "cells": [
  {
   "cell_type": "code",
   "execution_count": 1,
   "metadata": {
    "colab": {
     "base_uri": "https://localhost:8080/",
     "height": 154
    },
    "colab_type": "code",
    "id": "POsnGiQNuv1t",
    "outputId": "a30ef9a1-19a1-4c61-dceb-cdfd31de59f4"
   },
   "outputs": [
    {
     "name": "stderr",
     "output_type": "stream",
     "text": [
      "Using TensorFlow backend.\n"
     ]
    }
   ],
   "source": [
    "import pandas as pd\n",
    "import matplotlib.pyplot as plt\n",
    "import numpy as np\n",
    "from sklearn.model_selection import train_test_split\n",
    "from sklearn.preprocessing import StandardScaler\n",
    "from sklearn.svm import SVC\n",
    "from sklearn.preprocessing import LabelEncoder\n",
    "from sklearn.metrics import accuracy_score,confusion_matrix\n",
    "from sklearn.neighbors import KNeighborsClassifier\n",
    "from sklearn.naive_bayes import GaussianNB\n",
    "from sklearn.ensemble import RandomForestClassifier\n",
    "import seaborn as sns\n",
    "from keras.models import Sequential,load_model\n",
    "from keras.layers import Dense,Softmax\n",
    "from keras.utils import to_categorical\n",
    "from keras.callbacks import ModelCheckpoint\n",
    "from imblearn.over_sampling import SMOTE"
   ]
  },
  {
   "cell_type": "code",
   "execution_count": 2,
   "metadata": {
    "colab": {},
    "colab_type": "code",
    "id": "T1-oSV3Muv2M"
   },
   "outputs": [],
   "source": [
    "data=pd.read_csv(r'Employee_attirtion.csv')"
   ]
  },
  {
   "cell_type": "code",
   "execution_count": 3,
   "metadata": {
    "colab": {
     "base_uri": "https://localhost:8080/",
     "height": 299
    },
    "colab_type": "code",
    "id": "lkhZiJANuv2f",
    "outputId": "954c403a-e57b-400a-986f-77ed1fbe483c"
   },
   "outputs": [
    {
     "data": {
      "text/html": [
       "<div>\n",
       "<style scoped>\n",
       "    .dataframe tbody tr th:only-of-type {\n",
       "        vertical-align: middle;\n",
       "    }\n",
       "\n",
       "    .dataframe tbody tr th {\n",
       "        vertical-align: top;\n",
       "    }\n",
       "\n",
       "    .dataframe thead th {\n",
       "        text-align: right;\n",
       "    }\n",
       "</style>\n",
       "<table border=\"1\" class=\"dataframe\">\n",
       "  <thead>\n",
       "    <tr style=\"text-align: right;\">\n",
       "      <th></th>\n",
       "      <th>Age</th>\n",
       "      <th>Attrition</th>\n",
       "      <th>BusinessTravel</th>\n",
       "      <th>DailyRate</th>\n",
       "      <th>Department</th>\n",
       "      <th>DistanceFromHome</th>\n",
       "      <th>Education</th>\n",
       "      <th>EducationField</th>\n",
       "      <th>EmployeeCount</th>\n",
       "      <th>EmployeeNumber</th>\n",
       "      <th>...</th>\n",
       "      <th>RelationshipSatisfaction</th>\n",
       "      <th>StandardHours</th>\n",
       "      <th>StockOptionLevel</th>\n",
       "      <th>TotalWorkingYears</th>\n",
       "      <th>TrainingTimesLastYear</th>\n",
       "      <th>WorkLifeBalance</th>\n",
       "      <th>YearsAtCompany</th>\n",
       "      <th>YearsInCurrentRole</th>\n",
       "      <th>YearsSinceLastPromotion</th>\n",
       "      <th>YearsWithCurrManager</th>\n",
       "    </tr>\n",
       "  </thead>\n",
       "  <tbody>\n",
       "    <tr>\n",
       "      <th>0</th>\n",
       "      <td>41</td>\n",
       "      <td>Yes</td>\n",
       "      <td>Travel_Rarely</td>\n",
       "      <td>1102</td>\n",
       "      <td>Sales</td>\n",
       "      <td>1</td>\n",
       "      <td>2</td>\n",
       "      <td>Life Sciences</td>\n",
       "      <td>1</td>\n",
       "      <td>1</td>\n",
       "      <td>...</td>\n",
       "      <td>1</td>\n",
       "      <td>80</td>\n",
       "      <td>0</td>\n",
       "      <td>8</td>\n",
       "      <td>0</td>\n",
       "      <td>1</td>\n",
       "      <td>6</td>\n",
       "      <td>4</td>\n",
       "      <td>0</td>\n",
       "      <td>5</td>\n",
       "    </tr>\n",
       "    <tr>\n",
       "      <th>1</th>\n",
       "      <td>49</td>\n",
       "      <td>No</td>\n",
       "      <td>Travel_Frequently</td>\n",
       "      <td>279</td>\n",
       "      <td>Research &amp; Development</td>\n",
       "      <td>8</td>\n",
       "      <td>1</td>\n",
       "      <td>Life Sciences</td>\n",
       "      <td>1</td>\n",
       "      <td>2</td>\n",
       "      <td>...</td>\n",
       "      <td>4</td>\n",
       "      <td>80</td>\n",
       "      <td>1</td>\n",
       "      <td>10</td>\n",
       "      <td>3</td>\n",
       "      <td>3</td>\n",
       "      <td>10</td>\n",
       "      <td>7</td>\n",
       "      <td>1</td>\n",
       "      <td>7</td>\n",
       "    </tr>\n",
       "    <tr>\n",
       "      <th>2</th>\n",
       "      <td>37</td>\n",
       "      <td>Yes</td>\n",
       "      <td>Travel_Rarely</td>\n",
       "      <td>1373</td>\n",
       "      <td>Research &amp; Development</td>\n",
       "      <td>2</td>\n",
       "      <td>2</td>\n",
       "      <td>Other</td>\n",
       "      <td>1</td>\n",
       "      <td>4</td>\n",
       "      <td>...</td>\n",
       "      <td>2</td>\n",
       "      <td>80</td>\n",
       "      <td>0</td>\n",
       "      <td>7</td>\n",
       "      <td>3</td>\n",
       "      <td>3</td>\n",
       "      <td>0</td>\n",
       "      <td>0</td>\n",
       "      <td>0</td>\n",
       "      <td>0</td>\n",
       "    </tr>\n",
       "    <tr>\n",
       "      <th>3</th>\n",
       "      <td>33</td>\n",
       "      <td>No</td>\n",
       "      <td>Travel_Frequently</td>\n",
       "      <td>1392</td>\n",
       "      <td>Research &amp; Development</td>\n",
       "      <td>3</td>\n",
       "      <td>4</td>\n",
       "      <td>Life Sciences</td>\n",
       "      <td>1</td>\n",
       "      <td>5</td>\n",
       "      <td>...</td>\n",
       "      <td>3</td>\n",
       "      <td>80</td>\n",
       "      <td>0</td>\n",
       "      <td>8</td>\n",
       "      <td>3</td>\n",
       "      <td>3</td>\n",
       "      <td>8</td>\n",
       "      <td>7</td>\n",
       "      <td>3</td>\n",
       "      <td>0</td>\n",
       "    </tr>\n",
       "    <tr>\n",
       "      <th>4</th>\n",
       "      <td>27</td>\n",
       "      <td>No</td>\n",
       "      <td>Travel_Rarely</td>\n",
       "      <td>591</td>\n",
       "      <td>Research &amp; Development</td>\n",
       "      <td>2</td>\n",
       "      <td>1</td>\n",
       "      <td>Medical</td>\n",
       "      <td>1</td>\n",
       "      <td>7</td>\n",
       "      <td>...</td>\n",
       "      <td>4</td>\n",
       "      <td>80</td>\n",
       "      <td>1</td>\n",
       "      <td>6</td>\n",
       "      <td>3</td>\n",
       "      <td>3</td>\n",
       "      <td>2</td>\n",
       "      <td>2</td>\n",
       "      <td>2</td>\n",
       "      <td>2</td>\n",
       "    </tr>\n",
       "  </tbody>\n",
       "</table>\n",
       "<p>5 rows × 35 columns</p>\n",
       "</div>"
      ],
      "text/plain": [
       "   Age Attrition     BusinessTravel  DailyRate              Department  \\\n",
       "0   41       Yes      Travel_Rarely       1102                   Sales   \n",
       "1   49        No  Travel_Frequently        279  Research & Development   \n",
       "2   37       Yes      Travel_Rarely       1373  Research & Development   \n",
       "3   33        No  Travel_Frequently       1392  Research & Development   \n",
       "4   27        No      Travel_Rarely        591  Research & Development   \n",
       "\n",
       "   DistanceFromHome  Education EducationField  EmployeeCount  EmployeeNumber  \\\n",
       "0                 1          2  Life Sciences              1               1   \n",
       "1                 8          1  Life Sciences              1               2   \n",
       "2                 2          2          Other              1               4   \n",
       "3                 3          4  Life Sciences              1               5   \n",
       "4                 2          1        Medical              1               7   \n",
       "\n",
       "   ...  RelationshipSatisfaction StandardHours  StockOptionLevel  \\\n",
       "0  ...                         1            80                 0   \n",
       "1  ...                         4            80                 1   \n",
       "2  ...                         2            80                 0   \n",
       "3  ...                         3            80                 0   \n",
       "4  ...                         4            80                 1   \n",
       "\n",
       "   TotalWorkingYears  TrainingTimesLastYear WorkLifeBalance  YearsAtCompany  \\\n",
       "0                  8                      0               1               6   \n",
       "1                 10                      3               3              10   \n",
       "2                  7                      3               3               0   \n",
       "3                  8                      3               3               8   \n",
       "4                  6                      3               3               2   \n",
       "\n",
       "  YearsInCurrentRole  YearsSinceLastPromotion  YearsWithCurrManager  \n",
       "0                  4                        0                     5  \n",
       "1                  7                        1                     7  \n",
       "2                  0                        0                     0  \n",
       "3                  7                        3                     0  \n",
       "4                  2                        2                     2  \n",
       "\n",
       "[5 rows x 35 columns]"
      ]
     },
     "execution_count": 3,
     "metadata": {},
     "output_type": "execute_result"
    }
   ],
   "source": [
    "data.head()"
   ]
  },
  {
   "cell_type": "code",
   "execution_count": 4,
   "metadata": {
    "colab": {
     "base_uri": "https://localhost:8080/",
     "height": 34
    },
    "colab_type": "code",
    "id": "psF0Dstcuv22",
    "outputId": "b428e817-10fb-437e-b33e-2b9aa14ef6da"
   },
   "outputs": [
    {
     "data": {
      "text/plain": [
       "(1470, 35)"
      ]
     },
     "execution_count": 4,
     "metadata": {},
     "output_type": "execute_result"
    }
   ],
   "source": [
    "data.shape"
   ]
  },
  {
   "cell_type": "code",
   "execution_count": 5,
   "metadata": {
    "colab": {
     "base_uri": "https://localhost:8080/",
     "height": 622
    },
    "colab_type": "code",
    "id": "nm7OaIoKuv3I",
    "outputId": "6226650f-b8a4-473b-f8fe-c18fabafce4e"
   },
   "outputs": [
    {
     "data": {
      "text/plain": [
       "Age                         0\n",
       "Attrition                   0\n",
       "BusinessTravel              0\n",
       "DailyRate                   0\n",
       "Department                  0\n",
       "DistanceFromHome            0\n",
       "Education                   0\n",
       "EducationField              0\n",
       "EmployeeCount               0\n",
       "EmployeeNumber              0\n",
       "EnvironmentSatisfaction     0\n",
       "Gender                      0\n",
       "HourlyRate                  0\n",
       "JobInvolvement              0\n",
       "JobLevel                    0\n",
       "JobRole                     0\n",
       "JobSatisfaction             0\n",
       "MaritalStatus               0\n",
       "MonthlyIncome               0\n",
       "MonthlyRate                 0\n",
       "NumCompaniesWorked          0\n",
       "Over18                      0\n",
       "OverTime                    0\n",
       "PercentSalaryHike           0\n",
       "PerformanceRating           0\n",
       "RelationshipSatisfaction    0\n",
       "StandardHours               0\n",
       "StockOptionLevel            0\n",
       "TotalWorkingYears           0\n",
       "TrainingTimesLastYear       0\n",
       "WorkLifeBalance             0\n",
       "YearsAtCompany              0\n",
       "YearsInCurrentRole          0\n",
       "YearsSinceLastPromotion     0\n",
       "YearsWithCurrManager        0\n",
       "dtype: int64"
      ]
     },
     "execution_count": 5,
     "metadata": {},
     "output_type": "execute_result"
    }
   ],
   "source": [
    "data.isnull().sum()"
   ]
  },
  {
   "cell_type": "code",
   "execution_count": 6,
   "metadata": {
    "colab": {
     "base_uri": "https://localhost:8080/",
     "height": 837
    },
    "colab_type": "code",
    "id": "qbwV0hq4uv3a",
    "outputId": "bb120b87-086c-47c0-e81f-c2812a369b86"
   },
   "outputs": [
    {
     "data": {
      "text/html": [
       "<div>\n",
       "<style scoped>\n",
       "    .dataframe tbody tr th:only-of-type {\n",
       "        vertical-align: middle;\n",
       "    }\n",
       "\n",
       "    .dataframe tbody tr th {\n",
       "        vertical-align: top;\n",
       "    }\n",
       "\n",
       "    .dataframe thead th {\n",
       "        text-align: right;\n",
       "    }\n",
       "</style>\n",
       "<table border=\"1\" class=\"dataframe\">\n",
       "  <thead>\n",
       "    <tr style=\"text-align: right;\">\n",
       "      <th></th>\n",
       "      <th>Age</th>\n",
       "      <th>DailyRate</th>\n",
       "      <th>DistanceFromHome</th>\n",
       "      <th>Education</th>\n",
       "      <th>EmployeeCount</th>\n",
       "      <th>EmployeeNumber</th>\n",
       "      <th>EnvironmentSatisfaction</th>\n",
       "      <th>HourlyRate</th>\n",
       "      <th>JobInvolvement</th>\n",
       "      <th>JobLevel</th>\n",
       "      <th>...</th>\n",
       "      <th>RelationshipSatisfaction</th>\n",
       "      <th>StandardHours</th>\n",
       "      <th>StockOptionLevel</th>\n",
       "      <th>TotalWorkingYears</th>\n",
       "      <th>TrainingTimesLastYear</th>\n",
       "      <th>WorkLifeBalance</th>\n",
       "      <th>YearsAtCompany</th>\n",
       "      <th>YearsInCurrentRole</th>\n",
       "      <th>YearsSinceLastPromotion</th>\n",
       "      <th>YearsWithCurrManager</th>\n",
       "    </tr>\n",
       "  </thead>\n",
       "  <tbody>\n",
       "    <tr>\n",
       "      <th>Age</th>\n",
       "      <td>1.000000</td>\n",
       "      <td>0.010661</td>\n",
       "      <td>-0.001686</td>\n",
       "      <td>0.208034</td>\n",
       "      <td>NaN</td>\n",
       "      <td>-0.010145</td>\n",
       "      <td>0.010146</td>\n",
       "      <td>0.024287</td>\n",
       "      <td>0.029820</td>\n",
       "      <td>0.509604</td>\n",
       "      <td>...</td>\n",
       "      <td>0.053535</td>\n",
       "      <td>NaN</td>\n",
       "      <td>0.037510</td>\n",
       "      <td>0.680381</td>\n",
       "      <td>-0.019621</td>\n",
       "      <td>-0.021490</td>\n",
       "      <td>0.311309</td>\n",
       "      <td>0.212901</td>\n",
       "      <td>0.216513</td>\n",
       "      <td>0.202089</td>\n",
       "    </tr>\n",
       "    <tr>\n",
       "      <th>DailyRate</th>\n",
       "      <td>0.010661</td>\n",
       "      <td>1.000000</td>\n",
       "      <td>-0.004985</td>\n",
       "      <td>-0.016806</td>\n",
       "      <td>NaN</td>\n",
       "      <td>-0.050990</td>\n",
       "      <td>0.018355</td>\n",
       "      <td>0.023381</td>\n",
       "      <td>0.046135</td>\n",
       "      <td>0.002966</td>\n",
       "      <td>...</td>\n",
       "      <td>0.007846</td>\n",
       "      <td>NaN</td>\n",
       "      <td>0.042143</td>\n",
       "      <td>0.014515</td>\n",
       "      <td>0.002453</td>\n",
       "      <td>-0.037848</td>\n",
       "      <td>-0.034055</td>\n",
       "      <td>0.009932</td>\n",
       "      <td>-0.033229</td>\n",
       "      <td>-0.026363</td>\n",
       "    </tr>\n",
       "    <tr>\n",
       "      <th>DistanceFromHome</th>\n",
       "      <td>-0.001686</td>\n",
       "      <td>-0.004985</td>\n",
       "      <td>1.000000</td>\n",
       "      <td>0.021042</td>\n",
       "      <td>NaN</td>\n",
       "      <td>0.032916</td>\n",
       "      <td>-0.016075</td>\n",
       "      <td>0.031131</td>\n",
       "      <td>0.008783</td>\n",
       "      <td>0.005303</td>\n",
       "      <td>...</td>\n",
       "      <td>0.006557</td>\n",
       "      <td>NaN</td>\n",
       "      <td>0.044872</td>\n",
       "      <td>0.004628</td>\n",
       "      <td>-0.036942</td>\n",
       "      <td>-0.026556</td>\n",
       "      <td>0.009508</td>\n",
       "      <td>0.018845</td>\n",
       "      <td>0.010029</td>\n",
       "      <td>0.014406</td>\n",
       "    </tr>\n",
       "    <tr>\n",
       "      <th>Education</th>\n",
       "      <td>0.208034</td>\n",
       "      <td>-0.016806</td>\n",
       "      <td>0.021042</td>\n",
       "      <td>1.000000</td>\n",
       "      <td>NaN</td>\n",
       "      <td>0.042070</td>\n",
       "      <td>-0.027128</td>\n",
       "      <td>0.016775</td>\n",
       "      <td>0.042438</td>\n",
       "      <td>0.101589</td>\n",
       "      <td>...</td>\n",
       "      <td>-0.009118</td>\n",
       "      <td>NaN</td>\n",
       "      <td>0.018422</td>\n",
       "      <td>0.148280</td>\n",
       "      <td>-0.025100</td>\n",
       "      <td>0.009819</td>\n",
       "      <td>0.069114</td>\n",
       "      <td>0.060236</td>\n",
       "      <td>0.054254</td>\n",
       "      <td>0.069065</td>\n",
       "    </tr>\n",
       "    <tr>\n",
       "      <th>EmployeeCount</th>\n",
       "      <td>NaN</td>\n",
       "      <td>NaN</td>\n",
       "      <td>NaN</td>\n",
       "      <td>NaN</td>\n",
       "      <td>NaN</td>\n",
       "      <td>NaN</td>\n",
       "      <td>NaN</td>\n",
       "      <td>NaN</td>\n",
       "      <td>NaN</td>\n",
       "      <td>NaN</td>\n",
       "      <td>...</td>\n",
       "      <td>NaN</td>\n",
       "      <td>NaN</td>\n",
       "      <td>NaN</td>\n",
       "      <td>NaN</td>\n",
       "      <td>NaN</td>\n",
       "      <td>NaN</td>\n",
       "      <td>NaN</td>\n",
       "      <td>NaN</td>\n",
       "      <td>NaN</td>\n",
       "      <td>NaN</td>\n",
       "    </tr>\n",
       "    <tr>\n",
       "      <th>EmployeeNumber</th>\n",
       "      <td>-0.010145</td>\n",
       "      <td>-0.050990</td>\n",
       "      <td>0.032916</td>\n",
       "      <td>0.042070</td>\n",
       "      <td>NaN</td>\n",
       "      <td>1.000000</td>\n",
       "      <td>0.017621</td>\n",
       "      <td>0.035179</td>\n",
       "      <td>-0.006888</td>\n",
       "      <td>-0.018519</td>\n",
       "      <td>...</td>\n",
       "      <td>-0.069861</td>\n",
       "      <td>NaN</td>\n",
       "      <td>0.062227</td>\n",
       "      <td>-0.014365</td>\n",
       "      <td>0.023603</td>\n",
       "      <td>0.010309</td>\n",
       "      <td>-0.011240</td>\n",
       "      <td>-0.008416</td>\n",
       "      <td>-0.009019</td>\n",
       "      <td>-0.009197</td>\n",
       "    </tr>\n",
       "    <tr>\n",
       "      <th>EnvironmentSatisfaction</th>\n",
       "      <td>0.010146</td>\n",
       "      <td>0.018355</td>\n",
       "      <td>-0.016075</td>\n",
       "      <td>-0.027128</td>\n",
       "      <td>NaN</td>\n",
       "      <td>0.017621</td>\n",
       "      <td>1.000000</td>\n",
       "      <td>-0.049857</td>\n",
       "      <td>-0.008278</td>\n",
       "      <td>0.001212</td>\n",
       "      <td>...</td>\n",
       "      <td>0.007665</td>\n",
       "      <td>NaN</td>\n",
       "      <td>0.003432</td>\n",
       "      <td>-0.002693</td>\n",
       "      <td>-0.019359</td>\n",
       "      <td>0.027627</td>\n",
       "      <td>0.001458</td>\n",
       "      <td>0.018007</td>\n",
       "      <td>0.016194</td>\n",
       "      <td>-0.004999</td>\n",
       "    </tr>\n",
       "    <tr>\n",
       "      <th>HourlyRate</th>\n",
       "      <td>0.024287</td>\n",
       "      <td>0.023381</td>\n",
       "      <td>0.031131</td>\n",
       "      <td>0.016775</td>\n",
       "      <td>NaN</td>\n",
       "      <td>0.035179</td>\n",
       "      <td>-0.049857</td>\n",
       "      <td>1.000000</td>\n",
       "      <td>0.042861</td>\n",
       "      <td>-0.027853</td>\n",
       "      <td>...</td>\n",
       "      <td>0.001330</td>\n",
       "      <td>NaN</td>\n",
       "      <td>0.050263</td>\n",
       "      <td>-0.002334</td>\n",
       "      <td>-0.008548</td>\n",
       "      <td>-0.004607</td>\n",
       "      <td>-0.019582</td>\n",
       "      <td>-0.024106</td>\n",
       "      <td>-0.026716</td>\n",
       "      <td>-0.020123</td>\n",
       "    </tr>\n",
       "    <tr>\n",
       "      <th>JobInvolvement</th>\n",
       "      <td>0.029820</td>\n",
       "      <td>0.046135</td>\n",
       "      <td>0.008783</td>\n",
       "      <td>0.042438</td>\n",
       "      <td>NaN</td>\n",
       "      <td>-0.006888</td>\n",
       "      <td>-0.008278</td>\n",
       "      <td>0.042861</td>\n",
       "      <td>1.000000</td>\n",
       "      <td>-0.012630</td>\n",
       "      <td>...</td>\n",
       "      <td>0.034297</td>\n",
       "      <td>NaN</td>\n",
       "      <td>0.021523</td>\n",
       "      <td>-0.005533</td>\n",
       "      <td>-0.015338</td>\n",
       "      <td>-0.014617</td>\n",
       "      <td>-0.021355</td>\n",
       "      <td>0.008717</td>\n",
       "      <td>-0.024184</td>\n",
       "      <td>0.025976</td>\n",
       "    </tr>\n",
       "    <tr>\n",
       "      <th>JobLevel</th>\n",
       "      <td>0.509604</td>\n",
       "      <td>0.002966</td>\n",
       "      <td>0.005303</td>\n",
       "      <td>0.101589</td>\n",
       "      <td>NaN</td>\n",
       "      <td>-0.018519</td>\n",
       "      <td>0.001212</td>\n",
       "      <td>-0.027853</td>\n",
       "      <td>-0.012630</td>\n",
       "      <td>1.000000</td>\n",
       "      <td>...</td>\n",
       "      <td>0.021642</td>\n",
       "      <td>NaN</td>\n",
       "      <td>0.013984</td>\n",
       "      <td>0.782208</td>\n",
       "      <td>-0.018191</td>\n",
       "      <td>0.037818</td>\n",
       "      <td>0.534739</td>\n",
       "      <td>0.389447</td>\n",
       "      <td>0.353885</td>\n",
       "      <td>0.375281</td>\n",
       "    </tr>\n",
       "    <tr>\n",
       "      <th>JobSatisfaction</th>\n",
       "      <td>-0.004892</td>\n",
       "      <td>0.030571</td>\n",
       "      <td>-0.003669</td>\n",
       "      <td>-0.011296</td>\n",
       "      <td>NaN</td>\n",
       "      <td>-0.046247</td>\n",
       "      <td>-0.006784</td>\n",
       "      <td>-0.071335</td>\n",
       "      <td>-0.021476</td>\n",
       "      <td>-0.001944</td>\n",
       "      <td>...</td>\n",
       "      <td>-0.012454</td>\n",
       "      <td>NaN</td>\n",
       "      <td>0.010690</td>\n",
       "      <td>-0.020185</td>\n",
       "      <td>-0.005779</td>\n",
       "      <td>-0.019459</td>\n",
       "      <td>-0.003803</td>\n",
       "      <td>-0.002305</td>\n",
       "      <td>-0.018214</td>\n",
       "      <td>-0.027656</td>\n",
       "    </tr>\n",
       "    <tr>\n",
       "      <th>MonthlyIncome</th>\n",
       "      <td>0.497855</td>\n",
       "      <td>0.007707</td>\n",
       "      <td>-0.017014</td>\n",
       "      <td>0.094961</td>\n",
       "      <td>NaN</td>\n",
       "      <td>-0.014829</td>\n",
       "      <td>-0.006259</td>\n",
       "      <td>-0.015794</td>\n",
       "      <td>-0.015271</td>\n",
       "      <td>0.950300</td>\n",
       "      <td>...</td>\n",
       "      <td>0.025873</td>\n",
       "      <td>NaN</td>\n",
       "      <td>0.005408</td>\n",
       "      <td>0.772893</td>\n",
       "      <td>-0.021736</td>\n",
       "      <td>0.030683</td>\n",
       "      <td>0.514285</td>\n",
       "      <td>0.363818</td>\n",
       "      <td>0.344978</td>\n",
       "      <td>0.344079</td>\n",
       "    </tr>\n",
       "    <tr>\n",
       "      <th>MonthlyRate</th>\n",
       "      <td>0.028051</td>\n",
       "      <td>-0.032182</td>\n",
       "      <td>0.027473</td>\n",
       "      <td>-0.026084</td>\n",
       "      <td>NaN</td>\n",
       "      <td>0.012648</td>\n",
       "      <td>0.037600</td>\n",
       "      <td>-0.015297</td>\n",
       "      <td>-0.016322</td>\n",
       "      <td>0.039563</td>\n",
       "      <td>...</td>\n",
       "      <td>-0.004085</td>\n",
       "      <td>NaN</td>\n",
       "      <td>-0.034323</td>\n",
       "      <td>0.026442</td>\n",
       "      <td>0.001467</td>\n",
       "      <td>0.007963</td>\n",
       "      <td>-0.023655</td>\n",
       "      <td>-0.012815</td>\n",
       "      <td>0.001567</td>\n",
       "      <td>-0.036746</td>\n",
       "    </tr>\n",
       "    <tr>\n",
       "      <th>NumCompaniesWorked</th>\n",
       "      <td>0.299635</td>\n",
       "      <td>0.038153</td>\n",
       "      <td>-0.029251</td>\n",
       "      <td>0.126317</td>\n",
       "      <td>NaN</td>\n",
       "      <td>-0.001251</td>\n",
       "      <td>0.012594</td>\n",
       "      <td>0.022157</td>\n",
       "      <td>0.015012</td>\n",
       "      <td>0.142501</td>\n",
       "      <td>...</td>\n",
       "      <td>0.052733</td>\n",
       "      <td>NaN</td>\n",
       "      <td>0.030075</td>\n",
       "      <td>0.237639</td>\n",
       "      <td>-0.066054</td>\n",
       "      <td>-0.008366</td>\n",
       "      <td>-0.118421</td>\n",
       "      <td>-0.090754</td>\n",
       "      <td>-0.036814</td>\n",
       "      <td>-0.110319</td>\n",
       "    </tr>\n",
       "    <tr>\n",
       "      <th>PercentSalaryHike</th>\n",
       "      <td>0.003634</td>\n",
       "      <td>0.022704</td>\n",
       "      <td>0.040235</td>\n",
       "      <td>-0.011111</td>\n",
       "      <td>NaN</td>\n",
       "      <td>-0.012944</td>\n",
       "      <td>-0.031701</td>\n",
       "      <td>-0.009062</td>\n",
       "      <td>-0.017205</td>\n",
       "      <td>-0.034730</td>\n",
       "      <td>...</td>\n",
       "      <td>-0.040490</td>\n",
       "      <td>NaN</td>\n",
       "      <td>0.007528</td>\n",
       "      <td>-0.020608</td>\n",
       "      <td>-0.005221</td>\n",
       "      <td>-0.003280</td>\n",
       "      <td>-0.035991</td>\n",
       "      <td>-0.001520</td>\n",
       "      <td>-0.022154</td>\n",
       "      <td>-0.011985</td>\n",
       "    </tr>\n",
       "    <tr>\n",
       "      <th>PerformanceRating</th>\n",
       "      <td>0.001904</td>\n",
       "      <td>0.000473</td>\n",
       "      <td>0.027110</td>\n",
       "      <td>-0.024539</td>\n",
       "      <td>NaN</td>\n",
       "      <td>-0.020359</td>\n",
       "      <td>-0.029548</td>\n",
       "      <td>-0.002172</td>\n",
       "      <td>-0.029071</td>\n",
       "      <td>-0.021222</td>\n",
       "      <td>...</td>\n",
       "      <td>-0.031351</td>\n",
       "      <td>NaN</td>\n",
       "      <td>0.003506</td>\n",
       "      <td>0.006744</td>\n",
       "      <td>-0.015579</td>\n",
       "      <td>0.002572</td>\n",
       "      <td>0.003435</td>\n",
       "      <td>0.034986</td>\n",
       "      <td>0.017896</td>\n",
       "      <td>0.022827</td>\n",
       "    </tr>\n",
       "    <tr>\n",
       "      <th>RelationshipSatisfaction</th>\n",
       "      <td>0.053535</td>\n",
       "      <td>0.007846</td>\n",
       "      <td>0.006557</td>\n",
       "      <td>-0.009118</td>\n",
       "      <td>NaN</td>\n",
       "      <td>-0.069861</td>\n",
       "      <td>0.007665</td>\n",
       "      <td>0.001330</td>\n",
       "      <td>0.034297</td>\n",
       "      <td>0.021642</td>\n",
       "      <td>...</td>\n",
       "      <td>1.000000</td>\n",
       "      <td>NaN</td>\n",
       "      <td>-0.045952</td>\n",
       "      <td>0.024054</td>\n",
       "      <td>0.002497</td>\n",
       "      <td>0.019604</td>\n",
       "      <td>0.019367</td>\n",
       "      <td>-0.015123</td>\n",
       "      <td>0.033493</td>\n",
       "      <td>-0.000867</td>\n",
       "    </tr>\n",
       "    <tr>\n",
       "      <th>StandardHours</th>\n",
       "      <td>NaN</td>\n",
       "      <td>NaN</td>\n",
       "      <td>NaN</td>\n",
       "      <td>NaN</td>\n",
       "      <td>NaN</td>\n",
       "      <td>NaN</td>\n",
       "      <td>NaN</td>\n",
       "      <td>NaN</td>\n",
       "      <td>NaN</td>\n",
       "      <td>NaN</td>\n",
       "      <td>...</td>\n",
       "      <td>NaN</td>\n",
       "      <td>NaN</td>\n",
       "      <td>NaN</td>\n",
       "      <td>NaN</td>\n",
       "      <td>NaN</td>\n",
       "      <td>NaN</td>\n",
       "      <td>NaN</td>\n",
       "      <td>NaN</td>\n",
       "      <td>NaN</td>\n",
       "      <td>NaN</td>\n",
       "    </tr>\n",
       "    <tr>\n",
       "      <th>StockOptionLevel</th>\n",
       "      <td>0.037510</td>\n",
       "      <td>0.042143</td>\n",
       "      <td>0.044872</td>\n",
       "      <td>0.018422</td>\n",
       "      <td>NaN</td>\n",
       "      <td>0.062227</td>\n",
       "      <td>0.003432</td>\n",
       "      <td>0.050263</td>\n",
       "      <td>0.021523</td>\n",
       "      <td>0.013984</td>\n",
       "      <td>...</td>\n",
       "      <td>-0.045952</td>\n",
       "      <td>NaN</td>\n",
       "      <td>1.000000</td>\n",
       "      <td>0.010136</td>\n",
       "      <td>0.011274</td>\n",
       "      <td>0.004129</td>\n",
       "      <td>0.015058</td>\n",
       "      <td>0.050818</td>\n",
       "      <td>0.014352</td>\n",
       "      <td>0.024698</td>\n",
       "    </tr>\n",
       "    <tr>\n",
       "      <th>TotalWorkingYears</th>\n",
       "      <td>0.680381</td>\n",
       "      <td>0.014515</td>\n",
       "      <td>0.004628</td>\n",
       "      <td>0.148280</td>\n",
       "      <td>NaN</td>\n",
       "      <td>-0.014365</td>\n",
       "      <td>-0.002693</td>\n",
       "      <td>-0.002334</td>\n",
       "      <td>-0.005533</td>\n",
       "      <td>0.782208</td>\n",
       "      <td>...</td>\n",
       "      <td>0.024054</td>\n",
       "      <td>NaN</td>\n",
       "      <td>0.010136</td>\n",
       "      <td>1.000000</td>\n",
       "      <td>-0.035662</td>\n",
       "      <td>0.001008</td>\n",
       "      <td>0.628133</td>\n",
       "      <td>0.460365</td>\n",
       "      <td>0.404858</td>\n",
       "      <td>0.459188</td>\n",
       "    </tr>\n",
       "    <tr>\n",
       "      <th>TrainingTimesLastYear</th>\n",
       "      <td>-0.019621</td>\n",
       "      <td>0.002453</td>\n",
       "      <td>-0.036942</td>\n",
       "      <td>-0.025100</td>\n",
       "      <td>NaN</td>\n",
       "      <td>0.023603</td>\n",
       "      <td>-0.019359</td>\n",
       "      <td>-0.008548</td>\n",
       "      <td>-0.015338</td>\n",
       "      <td>-0.018191</td>\n",
       "      <td>...</td>\n",
       "      <td>0.002497</td>\n",
       "      <td>NaN</td>\n",
       "      <td>0.011274</td>\n",
       "      <td>-0.035662</td>\n",
       "      <td>1.000000</td>\n",
       "      <td>0.028072</td>\n",
       "      <td>0.003569</td>\n",
       "      <td>-0.005738</td>\n",
       "      <td>-0.002067</td>\n",
       "      <td>-0.004096</td>\n",
       "    </tr>\n",
       "    <tr>\n",
       "      <th>WorkLifeBalance</th>\n",
       "      <td>-0.021490</td>\n",
       "      <td>-0.037848</td>\n",
       "      <td>-0.026556</td>\n",
       "      <td>0.009819</td>\n",
       "      <td>NaN</td>\n",
       "      <td>0.010309</td>\n",
       "      <td>0.027627</td>\n",
       "      <td>-0.004607</td>\n",
       "      <td>-0.014617</td>\n",
       "      <td>0.037818</td>\n",
       "      <td>...</td>\n",
       "      <td>0.019604</td>\n",
       "      <td>NaN</td>\n",
       "      <td>0.004129</td>\n",
       "      <td>0.001008</td>\n",
       "      <td>0.028072</td>\n",
       "      <td>1.000000</td>\n",
       "      <td>0.012089</td>\n",
       "      <td>0.049856</td>\n",
       "      <td>0.008941</td>\n",
       "      <td>0.002759</td>\n",
       "    </tr>\n",
       "    <tr>\n",
       "      <th>YearsAtCompany</th>\n",
       "      <td>0.311309</td>\n",
       "      <td>-0.034055</td>\n",
       "      <td>0.009508</td>\n",
       "      <td>0.069114</td>\n",
       "      <td>NaN</td>\n",
       "      <td>-0.011240</td>\n",
       "      <td>0.001458</td>\n",
       "      <td>-0.019582</td>\n",
       "      <td>-0.021355</td>\n",
       "      <td>0.534739</td>\n",
       "      <td>...</td>\n",
       "      <td>0.019367</td>\n",
       "      <td>NaN</td>\n",
       "      <td>0.015058</td>\n",
       "      <td>0.628133</td>\n",
       "      <td>0.003569</td>\n",
       "      <td>0.012089</td>\n",
       "      <td>1.000000</td>\n",
       "      <td>0.758754</td>\n",
       "      <td>0.618409</td>\n",
       "      <td>0.769212</td>\n",
       "    </tr>\n",
       "    <tr>\n",
       "      <th>YearsInCurrentRole</th>\n",
       "      <td>0.212901</td>\n",
       "      <td>0.009932</td>\n",
       "      <td>0.018845</td>\n",
       "      <td>0.060236</td>\n",
       "      <td>NaN</td>\n",
       "      <td>-0.008416</td>\n",
       "      <td>0.018007</td>\n",
       "      <td>-0.024106</td>\n",
       "      <td>0.008717</td>\n",
       "      <td>0.389447</td>\n",
       "      <td>...</td>\n",
       "      <td>-0.015123</td>\n",
       "      <td>NaN</td>\n",
       "      <td>0.050818</td>\n",
       "      <td>0.460365</td>\n",
       "      <td>-0.005738</td>\n",
       "      <td>0.049856</td>\n",
       "      <td>0.758754</td>\n",
       "      <td>1.000000</td>\n",
       "      <td>0.548056</td>\n",
       "      <td>0.714365</td>\n",
       "    </tr>\n",
       "    <tr>\n",
       "      <th>YearsSinceLastPromotion</th>\n",
       "      <td>0.216513</td>\n",
       "      <td>-0.033229</td>\n",
       "      <td>0.010029</td>\n",
       "      <td>0.054254</td>\n",
       "      <td>NaN</td>\n",
       "      <td>-0.009019</td>\n",
       "      <td>0.016194</td>\n",
       "      <td>-0.026716</td>\n",
       "      <td>-0.024184</td>\n",
       "      <td>0.353885</td>\n",
       "      <td>...</td>\n",
       "      <td>0.033493</td>\n",
       "      <td>NaN</td>\n",
       "      <td>0.014352</td>\n",
       "      <td>0.404858</td>\n",
       "      <td>-0.002067</td>\n",
       "      <td>0.008941</td>\n",
       "      <td>0.618409</td>\n",
       "      <td>0.548056</td>\n",
       "      <td>1.000000</td>\n",
       "      <td>0.510224</td>\n",
       "    </tr>\n",
       "    <tr>\n",
       "      <th>YearsWithCurrManager</th>\n",
       "      <td>0.202089</td>\n",
       "      <td>-0.026363</td>\n",
       "      <td>0.014406</td>\n",
       "      <td>0.069065</td>\n",
       "      <td>NaN</td>\n",
       "      <td>-0.009197</td>\n",
       "      <td>-0.004999</td>\n",
       "      <td>-0.020123</td>\n",
       "      <td>0.025976</td>\n",
       "      <td>0.375281</td>\n",
       "      <td>...</td>\n",
       "      <td>-0.000867</td>\n",
       "      <td>NaN</td>\n",
       "      <td>0.024698</td>\n",
       "      <td>0.459188</td>\n",
       "      <td>-0.004096</td>\n",
       "      <td>0.002759</td>\n",
       "      <td>0.769212</td>\n",
       "      <td>0.714365</td>\n",
       "      <td>0.510224</td>\n",
       "      <td>1.000000</td>\n",
       "    </tr>\n",
       "  </tbody>\n",
       "</table>\n",
       "<p>26 rows × 26 columns</p>\n",
       "</div>"
      ],
      "text/plain": [
       "                               Age  DailyRate  DistanceFromHome  Education  \\\n",
       "Age                       1.000000   0.010661         -0.001686   0.208034   \n",
       "DailyRate                 0.010661   1.000000         -0.004985  -0.016806   \n",
       "DistanceFromHome         -0.001686  -0.004985          1.000000   0.021042   \n",
       "Education                 0.208034  -0.016806          0.021042   1.000000   \n",
       "EmployeeCount                  NaN        NaN               NaN        NaN   \n",
       "EmployeeNumber           -0.010145  -0.050990          0.032916   0.042070   \n",
       "EnvironmentSatisfaction   0.010146   0.018355         -0.016075  -0.027128   \n",
       "HourlyRate                0.024287   0.023381          0.031131   0.016775   \n",
       "JobInvolvement            0.029820   0.046135          0.008783   0.042438   \n",
       "JobLevel                  0.509604   0.002966          0.005303   0.101589   \n",
       "JobSatisfaction          -0.004892   0.030571         -0.003669  -0.011296   \n",
       "MonthlyIncome             0.497855   0.007707         -0.017014   0.094961   \n",
       "MonthlyRate               0.028051  -0.032182          0.027473  -0.026084   \n",
       "NumCompaniesWorked        0.299635   0.038153         -0.029251   0.126317   \n",
       "PercentSalaryHike         0.003634   0.022704          0.040235  -0.011111   \n",
       "PerformanceRating         0.001904   0.000473          0.027110  -0.024539   \n",
       "RelationshipSatisfaction  0.053535   0.007846          0.006557  -0.009118   \n",
       "StandardHours                  NaN        NaN               NaN        NaN   \n",
       "StockOptionLevel          0.037510   0.042143          0.044872   0.018422   \n",
       "TotalWorkingYears         0.680381   0.014515          0.004628   0.148280   \n",
       "TrainingTimesLastYear    -0.019621   0.002453         -0.036942  -0.025100   \n",
       "WorkLifeBalance          -0.021490  -0.037848         -0.026556   0.009819   \n",
       "YearsAtCompany            0.311309  -0.034055          0.009508   0.069114   \n",
       "YearsInCurrentRole        0.212901   0.009932          0.018845   0.060236   \n",
       "YearsSinceLastPromotion   0.216513  -0.033229          0.010029   0.054254   \n",
       "YearsWithCurrManager      0.202089  -0.026363          0.014406   0.069065   \n",
       "\n",
       "                          EmployeeCount  EmployeeNumber  \\\n",
       "Age                                 NaN       -0.010145   \n",
       "DailyRate                           NaN       -0.050990   \n",
       "DistanceFromHome                    NaN        0.032916   \n",
       "Education                           NaN        0.042070   \n",
       "EmployeeCount                       NaN             NaN   \n",
       "EmployeeNumber                      NaN        1.000000   \n",
       "EnvironmentSatisfaction             NaN        0.017621   \n",
       "HourlyRate                          NaN        0.035179   \n",
       "JobInvolvement                      NaN       -0.006888   \n",
       "JobLevel                            NaN       -0.018519   \n",
       "JobSatisfaction                     NaN       -0.046247   \n",
       "MonthlyIncome                       NaN       -0.014829   \n",
       "MonthlyRate                         NaN        0.012648   \n",
       "NumCompaniesWorked                  NaN       -0.001251   \n",
       "PercentSalaryHike                   NaN       -0.012944   \n",
       "PerformanceRating                   NaN       -0.020359   \n",
       "RelationshipSatisfaction            NaN       -0.069861   \n",
       "StandardHours                       NaN             NaN   \n",
       "StockOptionLevel                    NaN        0.062227   \n",
       "TotalWorkingYears                   NaN       -0.014365   \n",
       "TrainingTimesLastYear               NaN        0.023603   \n",
       "WorkLifeBalance                     NaN        0.010309   \n",
       "YearsAtCompany                      NaN       -0.011240   \n",
       "YearsInCurrentRole                  NaN       -0.008416   \n",
       "YearsSinceLastPromotion             NaN       -0.009019   \n",
       "YearsWithCurrManager                NaN       -0.009197   \n",
       "\n",
       "                          EnvironmentSatisfaction  HourlyRate  JobInvolvement  \\\n",
       "Age                                      0.010146    0.024287        0.029820   \n",
       "DailyRate                                0.018355    0.023381        0.046135   \n",
       "DistanceFromHome                        -0.016075    0.031131        0.008783   \n",
       "Education                               -0.027128    0.016775        0.042438   \n",
       "EmployeeCount                                 NaN         NaN             NaN   \n",
       "EmployeeNumber                           0.017621    0.035179       -0.006888   \n",
       "EnvironmentSatisfaction                  1.000000   -0.049857       -0.008278   \n",
       "HourlyRate                              -0.049857    1.000000        0.042861   \n",
       "JobInvolvement                          -0.008278    0.042861        1.000000   \n",
       "JobLevel                                 0.001212   -0.027853       -0.012630   \n",
       "JobSatisfaction                         -0.006784   -0.071335       -0.021476   \n",
       "MonthlyIncome                           -0.006259   -0.015794       -0.015271   \n",
       "MonthlyRate                              0.037600   -0.015297       -0.016322   \n",
       "NumCompaniesWorked                       0.012594    0.022157        0.015012   \n",
       "PercentSalaryHike                       -0.031701   -0.009062       -0.017205   \n",
       "PerformanceRating                       -0.029548   -0.002172       -0.029071   \n",
       "RelationshipSatisfaction                 0.007665    0.001330        0.034297   \n",
       "StandardHours                                 NaN         NaN             NaN   \n",
       "StockOptionLevel                         0.003432    0.050263        0.021523   \n",
       "TotalWorkingYears                       -0.002693   -0.002334       -0.005533   \n",
       "TrainingTimesLastYear                   -0.019359   -0.008548       -0.015338   \n",
       "WorkLifeBalance                          0.027627   -0.004607       -0.014617   \n",
       "YearsAtCompany                           0.001458   -0.019582       -0.021355   \n",
       "YearsInCurrentRole                       0.018007   -0.024106        0.008717   \n",
       "YearsSinceLastPromotion                  0.016194   -0.026716       -0.024184   \n",
       "YearsWithCurrManager                    -0.004999   -0.020123        0.025976   \n",
       "\n",
       "                          JobLevel  ...  RelationshipSatisfaction  \\\n",
       "Age                       0.509604  ...                  0.053535   \n",
       "DailyRate                 0.002966  ...                  0.007846   \n",
       "DistanceFromHome          0.005303  ...                  0.006557   \n",
       "Education                 0.101589  ...                 -0.009118   \n",
       "EmployeeCount                  NaN  ...                       NaN   \n",
       "EmployeeNumber           -0.018519  ...                 -0.069861   \n",
       "EnvironmentSatisfaction   0.001212  ...                  0.007665   \n",
       "HourlyRate               -0.027853  ...                  0.001330   \n",
       "JobInvolvement           -0.012630  ...                  0.034297   \n",
       "JobLevel                  1.000000  ...                  0.021642   \n",
       "JobSatisfaction          -0.001944  ...                 -0.012454   \n",
       "MonthlyIncome             0.950300  ...                  0.025873   \n",
       "MonthlyRate               0.039563  ...                 -0.004085   \n",
       "NumCompaniesWorked        0.142501  ...                  0.052733   \n",
       "PercentSalaryHike        -0.034730  ...                 -0.040490   \n",
       "PerformanceRating        -0.021222  ...                 -0.031351   \n",
       "RelationshipSatisfaction  0.021642  ...                  1.000000   \n",
       "StandardHours                  NaN  ...                       NaN   \n",
       "StockOptionLevel          0.013984  ...                 -0.045952   \n",
       "TotalWorkingYears         0.782208  ...                  0.024054   \n",
       "TrainingTimesLastYear    -0.018191  ...                  0.002497   \n",
       "WorkLifeBalance           0.037818  ...                  0.019604   \n",
       "YearsAtCompany            0.534739  ...                  0.019367   \n",
       "YearsInCurrentRole        0.389447  ...                 -0.015123   \n",
       "YearsSinceLastPromotion   0.353885  ...                  0.033493   \n",
       "YearsWithCurrManager      0.375281  ...                 -0.000867   \n",
       "\n",
       "                          StandardHours  StockOptionLevel  TotalWorkingYears  \\\n",
       "Age                                 NaN          0.037510           0.680381   \n",
       "DailyRate                           NaN          0.042143           0.014515   \n",
       "DistanceFromHome                    NaN          0.044872           0.004628   \n",
       "Education                           NaN          0.018422           0.148280   \n",
       "EmployeeCount                       NaN               NaN                NaN   \n",
       "EmployeeNumber                      NaN          0.062227          -0.014365   \n",
       "EnvironmentSatisfaction             NaN          0.003432          -0.002693   \n",
       "HourlyRate                          NaN          0.050263          -0.002334   \n",
       "JobInvolvement                      NaN          0.021523          -0.005533   \n",
       "JobLevel                            NaN          0.013984           0.782208   \n",
       "JobSatisfaction                     NaN          0.010690          -0.020185   \n",
       "MonthlyIncome                       NaN          0.005408           0.772893   \n",
       "MonthlyRate                         NaN         -0.034323           0.026442   \n",
       "NumCompaniesWorked                  NaN          0.030075           0.237639   \n",
       "PercentSalaryHike                   NaN          0.007528          -0.020608   \n",
       "PerformanceRating                   NaN          0.003506           0.006744   \n",
       "RelationshipSatisfaction            NaN         -0.045952           0.024054   \n",
       "StandardHours                       NaN               NaN                NaN   \n",
       "StockOptionLevel                    NaN          1.000000           0.010136   \n",
       "TotalWorkingYears                   NaN          0.010136           1.000000   \n",
       "TrainingTimesLastYear               NaN          0.011274          -0.035662   \n",
       "WorkLifeBalance                     NaN          0.004129           0.001008   \n",
       "YearsAtCompany                      NaN          0.015058           0.628133   \n",
       "YearsInCurrentRole                  NaN          0.050818           0.460365   \n",
       "YearsSinceLastPromotion             NaN          0.014352           0.404858   \n",
       "YearsWithCurrManager                NaN          0.024698           0.459188   \n",
       "\n",
       "                          TrainingTimesLastYear  WorkLifeBalance  \\\n",
       "Age                                   -0.019621        -0.021490   \n",
       "DailyRate                              0.002453        -0.037848   \n",
       "DistanceFromHome                      -0.036942        -0.026556   \n",
       "Education                             -0.025100         0.009819   \n",
       "EmployeeCount                               NaN              NaN   \n",
       "EmployeeNumber                         0.023603         0.010309   \n",
       "EnvironmentSatisfaction               -0.019359         0.027627   \n",
       "HourlyRate                            -0.008548        -0.004607   \n",
       "JobInvolvement                        -0.015338        -0.014617   \n",
       "JobLevel                              -0.018191         0.037818   \n",
       "JobSatisfaction                       -0.005779        -0.019459   \n",
       "MonthlyIncome                         -0.021736         0.030683   \n",
       "MonthlyRate                            0.001467         0.007963   \n",
       "NumCompaniesWorked                    -0.066054        -0.008366   \n",
       "PercentSalaryHike                     -0.005221        -0.003280   \n",
       "PerformanceRating                     -0.015579         0.002572   \n",
       "RelationshipSatisfaction               0.002497         0.019604   \n",
       "StandardHours                               NaN              NaN   \n",
       "StockOptionLevel                       0.011274         0.004129   \n",
       "TotalWorkingYears                     -0.035662         0.001008   \n",
       "TrainingTimesLastYear                  1.000000         0.028072   \n",
       "WorkLifeBalance                        0.028072         1.000000   \n",
       "YearsAtCompany                         0.003569         0.012089   \n",
       "YearsInCurrentRole                    -0.005738         0.049856   \n",
       "YearsSinceLastPromotion               -0.002067         0.008941   \n",
       "YearsWithCurrManager                  -0.004096         0.002759   \n",
       "\n",
       "                          YearsAtCompany  YearsInCurrentRole  \\\n",
       "Age                             0.311309            0.212901   \n",
       "DailyRate                      -0.034055            0.009932   \n",
       "DistanceFromHome                0.009508            0.018845   \n",
       "Education                       0.069114            0.060236   \n",
       "EmployeeCount                        NaN                 NaN   \n",
       "EmployeeNumber                 -0.011240           -0.008416   \n",
       "EnvironmentSatisfaction         0.001458            0.018007   \n",
       "HourlyRate                     -0.019582           -0.024106   \n",
       "JobInvolvement                 -0.021355            0.008717   \n",
       "JobLevel                        0.534739            0.389447   \n",
       "JobSatisfaction                -0.003803           -0.002305   \n",
       "MonthlyIncome                   0.514285            0.363818   \n",
       "MonthlyRate                    -0.023655           -0.012815   \n",
       "NumCompaniesWorked             -0.118421           -0.090754   \n",
       "PercentSalaryHike              -0.035991           -0.001520   \n",
       "PerformanceRating               0.003435            0.034986   \n",
       "RelationshipSatisfaction        0.019367           -0.015123   \n",
       "StandardHours                        NaN                 NaN   \n",
       "StockOptionLevel                0.015058            0.050818   \n",
       "TotalWorkingYears               0.628133            0.460365   \n",
       "TrainingTimesLastYear           0.003569           -0.005738   \n",
       "WorkLifeBalance                 0.012089            0.049856   \n",
       "YearsAtCompany                  1.000000            0.758754   \n",
       "YearsInCurrentRole              0.758754            1.000000   \n",
       "YearsSinceLastPromotion         0.618409            0.548056   \n",
       "YearsWithCurrManager            0.769212            0.714365   \n",
       "\n",
       "                          YearsSinceLastPromotion  YearsWithCurrManager  \n",
       "Age                                      0.216513              0.202089  \n",
       "DailyRate                               -0.033229             -0.026363  \n",
       "DistanceFromHome                         0.010029              0.014406  \n",
       "Education                                0.054254              0.069065  \n",
       "EmployeeCount                                 NaN                   NaN  \n",
       "EmployeeNumber                          -0.009019             -0.009197  \n",
       "EnvironmentSatisfaction                  0.016194             -0.004999  \n",
       "HourlyRate                              -0.026716             -0.020123  \n",
       "JobInvolvement                          -0.024184              0.025976  \n",
       "JobLevel                                 0.353885              0.375281  \n",
       "JobSatisfaction                         -0.018214             -0.027656  \n",
       "MonthlyIncome                            0.344978              0.344079  \n",
       "MonthlyRate                              0.001567             -0.036746  \n",
       "NumCompaniesWorked                      -0.036814             -0.110319  \n",
       "PercentSalaryHike                       -0.022154             -0.011985  \n",
       "PerformanceRating                        0.017896              0.022827  \n",
       "RelationshipSatisfaction                 0.033493             -0.000867  \n",
       "StandardHours                                 NaN                   NaN  \n",
       "StockOptionLevel                         0.014352              0.024698  \n",
       "TotalWorkingYears                        0.404858              0.459188  \n",
       "TrainingTimesLastYear                   -0.002067             -0.004096  \n",
       "WorkLifeBalance                          0.008941              0.002759  \n",
       "YearsAtCompany                           0.618409              0.769212  \n",
       "YearsInCurrentRole                       0.548056              0.714365  \n",
       "YearsSinceLastPromotion                  1.000000              0.510224  \n",
       "YearsWithCurrManager                     0.510224              1.000000  \n",
       "\n",
       "[26 rows x 26 columns]"
      ]
     },
     "execution_count": 6,
     "metadata": {},
     "output_type": "execute_result"
    }
   ],
   "source": [
    "data.corr()"
   ]
  },
  {
   "cell_type": "code",
   "execution_count": 7,
   "metadata": {
    "colab": {
     "base_uri": "https://localhost:8080/",
     "height": 878
    },
    "colab_type": "code",
    "id": "tAI1j522uv3t",
    "outputId": "8663bb3a-f71d-407c-80be-fce7af978a02"
   },
   "outputs": [
    {
     "data": {
      "text/plain": [
       "array([[<matplotlib.axes._subplots.AxesSubplot object at 0x0000022C6DF25D30>,\n",
       "        <matplotlib.axes._subplots.AxesSubplot object at 0x0000022C6FFCE048>,\n",
       "        <matplotlib.axes._subplots.AxesSubplot object at 0x0000022C6FFF35C0>,\n",
       "        <matplotlib.axes._subplots.AxesSubplot object at 0x0000022C70018B38>,\n",
       "        <matplotlib.axes._subplots.AxesSubplot object at 0x0000022C7004E0F0>],\n",
       "       [<matplotlib.axes._subplots.AxesSubplot object at 0x0000022C70074668>,\n",
       "        <matplotlib.axes._subplots.AxesSubplot object at 0x0000022C7009ABE0>,\n",
       "        <matplotlib.axes._subplots.AxesSubplot object at 0x0000022C700C91D0>,\n",
       "        <matplotlib.axes._subplots.AxesSubplot object at 0x0000022C700C9208>,\n",
       "        <matplotlib.axes._subplots.AxesSubplot object at 0x0000022C7011AC88>],\n",
       "       [<matplotlib.axes._subplots.AxesSubplot object at 0x0000022C7014B240>,\n",
       "        <matplotlib.axes._subplots.AxesSubplot object at 0x0000022C701727B8>,\n",
       "        <matplotlib.axes._subplots.AxesSubplot object at 0x0000022C7019AD30>,\n",
       "        <matplotlib.axes._subplots.AxesSubplot object at 0x0000022C701CA2E8>,\n",
       "        <matplotlib.axes._subplots.AxesSubplot object at 0x0000022C701F2860>],\n",
       "       [<matplotlib.axes._subplots.AxesSubplot object at 0x0000022C70218DD8>,\n",
       "        <matplotlib.axes._subplots.AxesSubplot object at 0x0000022C70249390>,\n",
       "        <matplotlib.axes._subplots.AxesSubplot object at 0x0000022C70271908>,\n",
       "        <matplotlib.axes._subplots.AxesSubplot object at 0x0000022C70299E80>,\n",
       "        <matplotlib.axes._subplots.AxesSubplot object at 0x0000022C702C7438>],\n",
       "       [<matplotlib.axes._subplots.AxesSubplot object at 0x0000022C702EF9B0>,\n",
       "        <matplotlib.axes._subplots.AxesSubplot object at 0x0000022C70317F28>,\n",
       "        <matplotlib.axes._subplots.AxesSubplot object at 0x0000022C703484E0>,\n",
       "        <matplotlib.axes._subplots.AxesSubplot object at 0x0000022C7036EA58>,\n",
       "        <matplotlib.axes._subplots.AxesSubplot object at 0x0000022C70399FD0>],\n",
       "       [<matplotlib.axes._subplots.AxesSubplot object at 0x0000022C703C7588>,\n",
       "        <matplotlib.axes._subplots.AxesSubplot object at 0x0000022C703EEB00>,\n",
       "        <matplotlib.axes._subplots.AxesSubplot object at 0x0000022C713F00B8>,\n",
       "        <matplotlib.axes._subplots.AxesSubplot object at 0x0000022C71417630>,\n",
       "        <matplotlib.axes._subplots.AxesSubplot object at 0x0000022C7143CBA8>]],\n",
       "      dtype=object)"
      ]
     },
     "execution_count": 7,
     "metadata": {},
     "output_type": "execute_result"
    },
    {
     "data": {
      "image/png": "[encoded data removed]",
      "text/plain": [
       "<Figure size 1440x720 with 30 Axes>"
      ]
     },
     "metadata": {
      "needs_background": "light"
     },
     "output_type": "display_data"
    }
   ],
   "source": [
    "data.hist(figsize=(20,10))"
   ]
  },
  {
   "cell_type": "code",
   "execution_count": 8,
   "metadata": {
    "colab": {
     "base_uri": "https://localhost:8080/",
     "height": 296
    },
    "colab_type": "code",
    "id": "dSomcJ3ouv4D",
    "outputId": "6d03646b-7e81-436e-9f44-d8ea1525a791"
   },
   "outputs": [
    {
     "data": {
      "text/plain": [
       "<matplotlib.axes._subplots.AxesSubplot at 0x22c71e34080>"
      ]
     },
     "execution_count": 8,
     "metadata": {},
     "output_type": "execute_result"
    },
    {
     "data": {
      "image/png": "[encoded data removed]",
      "text/plain": [
       "<Figure size 432x288 with 1 Axes>"
      ]
     },
     "metadata": {
      "needs_background": "light"
     },
     "output_type": "display_data"
    }
   ],
   "source": [
    "sns.countplot(data['Attrition'])# showing class imbalancing"
   ]
  },
  {
   "cell_type": "markdown",
   "metadata": {
    "colab_type": "text",
    "id": "xucu2BMHuv4W"
   },
   "source": [
    "# sampling"
   ]
  },
  {
   "cell_type": "code",
   "execution_count": 60,
   "metadata": {
    "colab": {},
    "colab_type": "code",
    "id": "Nj_mE8g6uv4a"
   },
   "outputs": [],
   "source": [
    "Total_sample=1400\n",
    "percent_no=30\n",
    "data_no=data[data['Attrition']=='No'].sample(n=int((percent_no*Total_sample/100)))\n",
    "data_no['Attrition'].apply(lambda x:'Yes')\n",
    "data_no.shape\n",
    "data_yes=pd.concat([data[data['Attrition']=='Yes'],data_no],axis=0)"
   ]
  },
  {
   "cell_type": "code",
   "execution_count": 10,
   "metadata": {
    "colab": {
     "base_uri": "https://localhost:8080/",
     "height": 34
    },
    "colab_type": "code",
    "id": "m6en_GfMuv4r",
    "outputId": "501575c2-4fc4-4f56-a3c9-47ef634426c3"
   },
   "outputs": [
    {
     "data": {
      "text/plain": [
       "(420, 35)"
      ]
     },
     "execution_count": 10,
     "metadata": {},
     "output_type": "execute_result"
    }
   ],
   "source": [
    "data_yes.shape\n",
    "data_no.shape"
   ]
  },
  {
   "cell_type": "code",
   "execution_count": 11,
   "metadata": {
    "colab": {},
    "colab_type": "code",
    "id": "mX5FRSWeuv46"
   },
   "outputs": [],
   "source": [
    "sampled_data=pd.concat([data_yes,data_no],axis=0)"
   ]
  },
  {
   "cell_type": "code",
   "execution_count": 12,
   "metadata": {
    "colab": {
     "base_uri": "https://localhost:8080/",
     "height": 34
    },
    "colab_type": "code",
    "id": "EErED36Uuv5V",
    "outputId": "8429ea92-1d5d-4cd3-e3b4-3070172dcffb"
   },
   "outputs": [
    {
     "data": {
      "text/plain": [
       "(1077, 35)"
      ]
     },
     "execution_count": 12,
     "metadata": {},
     "output_type": "execute_result"
    }
   ],
   "source": [
    "sampled_data.shape"
   ]
  },
  {
   "cell_type": "code",
   "execution_count": 13,
   "metadata": {
    "colab": {},
    "colab_type": "code",
    "id": "hBa7-yrbuv5s"
   },
   "outputs": [],
   "source": [
    "from sklearn.utils import shuffle\n",
    "Sampled_data=shuffle(sampled_data)"
   ]
  },
  {
   "cell_type": "code",
   "execution_count": 14,
   "metadata": {
    "colab": {
     "base_uri": "https://localhost:8080/",
     "height": 296
    },
    "colab_type": "code",
    "id": "jJ9Wlvibuv55",
    "outputId": "1e685dae-49bd-433b-e536-1a3aaf4d16ee"
   },
   "outputs": [
    {
     "data": {
      "text/plain": [
       "<matplotlib.axes._subplots.AxesSubplot at 0x22c71d906d8>"
      ]
     },
     "execution_count": 14,
     "metadata": {},
     "output_type": "execute_result"
    },
    {
     "data": {
      "image/png": "[encoded data removed]",
      "text/plain": [
       "<Figure size 432x288 with 1 Axes>"
      ]
     },
     "metadata": {
      "needs_background": "light"
     },
     "output_type": "display_data"
    }
   ],
   "source": [
    "sns.countplot(Sampled_data['Attrition'])"
   ]
  },
  {
   "cell_type": "markdown",
   "metadata": {
    "colab_type": "text",
    "id": "iHyEjrYnuv6H"
   },
   "source": [
    "# Label Encoding"
   ]
  },
  {
   "cell_type": "code",
   "execution_count": 15,
   "metadata": {
    "colab": {},
    "colab_type": "code",
    "id": "i6Ld5a5zuv6J"
   },
   "outputs": [],
   "source": [
    "columns=Sampled_data.columns\n",
    "label_encoder=LabelEncoder()\n",
    "for cols in columns:\n",
    "   # print(cols)\n",
    "    if(isinstance(Sampled_data[cols].values[0],str)):\n",
    "        Sampled_data[cols]=label_encoder.fit_transform(Sampled_data[cols].values)"
   ]
  },
  {
   "cell_type": "code",
   "execution_count": 16,
   "metadata": {
    "colab": {},
    "colab_type": "code",
    "id": "lDNBR6Vhuv6Y"
   },
   "outputs": [],
   "source": [
    "x=Sampled_data.drop('Attrition',axis=1)\n",
    "y=Sampled_data['Attrition']"
   ]
  },
  {
   "cell_type": "code",
   "execution_count": 17,
   "metadata": {
    "colab": {
     "base_uri": "https://localhost:8080/",
     "height": 70
    },
    "colab_type": "code",
    "id": "TyGaEiJJv4q2",
    "outputId": "96bbc9be-9741-44ee-bc14-6c137ca1b6e8"
   },
   "outputs": [],
   "source": [
    "X,Y=SMOTE().fit_sample(x,y)"
   ]
  },
  {
   "cell_type": "code",
   "execution_count": 18,
   "metadata": {
    "colab": {
     "base_uri": "https://localhost:8080/",
     "height": 282
    },
    "colab_type": "code",
    "id": "ZGzil4zhwDXG",
    "outputId": "a24b7602-2a10-4d67-9435-8c0ff7ed8715"
   },
   "outputs": [
    {
     "data": {
      "text/plain": [
       "<matplotlib.axes._subplots.AxesSubplot at 0x22c716e5ef0>"
      ]
     },
     "execution_count": 18,
     "metadata": {},
     "output_type": "execute_result"
    },
    {
     "data": {
      "image/png": "[encoded data removed]",
      "text/plain": [
       "<Figure size 432x288 with 1 Axes>"
      ]
     },
     "metadata": {
      "needs_background": "light"
     },
     "output_type": "display_data"
    }
   ],
   "source": [
    "sns.countplot(Y)"
   ]
  },
  {
   "cell_type": "code",
   "execution_count": 19,
   "metadata": {
    "colab": {},
    "colab_type": "code",
    "id": "lE964wvtuv6p"
   },
   "outputs": [],
   "source": [
    "x_train,x_test,y_train,y_test=train_test_split(X,Y,stratify=Y,test_size=0.2,random_state=0)"
   ]
  },
  {
   "cell_type": "code",
   "execution_count": 20,
   "metadata": {
    "colab": {},
    "colab_type": "code",
    "id": "wWx8r9u2uv64"
   },
   "outputs": [],
   "source": [
    "y_train_cat=to_categorical(y_train,2)\n",
    "y_test_cat=to_categorical(y_test,2)"
   ]
  },
  {
   "cell_type": "code",
   "execution_count": 21,
   "metadata": {
    "colab": {},
    "colab_type": "code",
    "id": "pRB4DgUTuv7I"
   },
   "outputs": [],
   "source": [
    "model=Sequential()\n",
    "model.add(Dense(30,input_dim=x_train.shape[1]))\n",
    "model.add(Dense(20))\n",
    "model.add(Dense(10))\n",
    "model.add(Dense(6))\n",
    "model.add(Dense(2,activation='softmax'))"
   ]
  },
  {
   "cell_type": "code",
   "execution_count": 22,
   "metadata": {
    "colab": {},
    "colab_type": "code",
    "id": "1wTd3eG2uv7W"
   },
   "outputs": [],
   "source": [
    "filepath=\"Employee_weights-improvement-{epoch:02d}-{val_accuracy:.2f}.hdf5\"\n",
    "checkpoint = ModelCheckpoint(filepath, monitor='val_accuracy', verbose=1, save_best_only=True, mode='max')\n",
    "callbacks_list = [checkpoint]"
   ]
  },
  {
   "cell_type": "code",
   "execution_count": 23,
   "metadata": {
    "colab": {},
    "colab_type": "code",
    "id": "a-Y0F7ufuv7k"
   },
   "outputs": [],
   "source": [
    "model.compile(optimizer='adam',loss='categorical_crossentropy',metrics=['accuracy'])"
   ]
  },
  {
   "cell_type": "code",
   "execution_count": 24,
   "metadata": {
    "colab": {
     "base_uri": "https://localhost:8080/",
     "height": 1000
    },
    "colab_type": "code",
    "id": "4KSII-dkuv7w",
    "outputId": "00519f90-2e80-4f8f-b761-c72f67ef6620"
   },
   "outputs": [
    {
     "name": "stdout",
     "output_type": "stream",
     "text": [
      "Train on 1344 samples, validate on 336 samples\n",
      "Epoch 1/100\n",
      "1344/1344 [==============================] - 0s 150us/step - loss: 1820.2319 - accuracy: 0.4680 - val_loss: 263.4413 - val_accuracy: 0.5149\n",
      "\n",
      "Epoch 00001: val_accuracy improved from -inf to 0.51488, saving model to Employee_weights-improvement-01-0.51.hdf5\n",
      "Epoch 2/100\n",
      "1344/1344 [==============================] - 0s 53us/step - loss: 141.0331 - accuracy: 0.5164 - val_loss: 102.9883 - val_accuracy: 0.5238\n",
      "\n",
      "Epoch 00002: val_accuracy improved from 0.51488 to 0.52381, saving model to Employee_weights-improvement-02-0.52.hdf5\n",
      "Epoch 3/100\n",
      "1344/1344 [==============================] - 0s 49us/step - loss: 56.2660 - accuracy: 0.5186 - val_loss: 25.7490 - val_accuracy: 0.5893\n",
      "\n",
      "Epoch 00003: val_accuracy improved from 0.52381 to 0.58929, saving model to Employee_weights-improvement-03-0.59.hdf5\n",
      "Epoch 4/100\n",
      "1344/1344 [==============================] - 0s 43us/step - loss: 31.1382 - accuracy: 0.5484 - val_loss: 92.8009 - val_accuracy: 0.5089\n",
      "\n",
      "Epoch 00004: val_accuracy did not improve from 0.58929\n",
      "Epoch 5/100\n",
      "1344/1344 [==============================] - 0s 47us/step - loss: 65.7707 - accuracy: 0.5342 - val_loss: 68.9237 - val_accuracy: 0.5000\n",
      "\n",
      "Epoch 00005: val_accuracy did not improve from 0.58929\n",
      "Epoch 6/100\n",
      "1344/1344 [==============================] - 0s 53us/step - loss: 53.9343 - accuracy: 0.5439 - val_loss: 31.4868 - val_accuracy: 0.5714\n",
      "\n",
      "Epoch 00006: val_accuracy did not improve from 0.58929\n",
      "Epoch 7/100\n",
      "1344/1344 [==============================] - 0s 45us/step - loss: 26.8911 - accuracy: 0.5521 - val_loss: 27.5147 - val_accuracy: 0.5238\n",
      "\n",
      "Epoch 00007: val_accuracy did not improve from 0.58929\n",
      "Epoch 8/100\n",
      "1344/1344 [==============================] - 0s 44us/step - loss: 27.3128 - accuracy: 0.5439 - val_loss: 10.8584 - val_accuracy: 0.6667\n",
      "\n",
      "Epoch 00008: val_accuracy improved from 0.58929 to 0.66667, saving model to Employee_weights-improvement-08-0.67.hdf5\n",
      "Epoch 9/100\n",
      "1344/1344 [==============================] - 0s 44us/step - loss: 21.6414 - accuracy: 0.5335 - val_loss: 28.9889 - val_accuracy: 0.5238\n",
      "\n",
      "Epoch 00009: val_accuracy did not improve from 0.66667\n",
      "Epoch 10/100\n",
      "1344/1344 [==============================] - 0s 48us/step - loss: 24.6541 - accuracy: 0.5729 - val_loss: 7.7765 - val_accuracy: 0.5833\n",
      "\n",
      "Epoch 00010: val_accuracy did not improve from 0.66667\n",
      "Epoch 11/100\n",
      "1344/1344 [==============================] - 0s 41us/step - loss: 59.8487 - accuracy: 0.5521 - val_loss: 45.6704 - val_accuracy: 0.5655\n",
      "\n",
      "Epoch 00011: val_accuracy did not improve from 0.66667\n",
      "Epoch 12/100\n",
      "1344/1344 [==============================] - 0s 42us/step - loss: 30.5318 - accuracy: 0.5484 - val_loss: 72.4931 - val_accuracy: 0.5625\n",
      "\n",
      "Epoch 00012: val_accuracy did not improve from 0.66667\n",
      "Epoch 13/100\n",
      "1344/1344 [==============================] - 0s 40us/step - loss: 56.9693 - accuracy: 0.5253 - val_loss: 33.5191 - val_accuracy: 0.5000\n",
      "\n",
      "Epoch 00013: val_accuracy did not improve from 0.66667\n",
      "Epoch 14/100\n",
      "1344/1344 [==============================] - 0s 39us/step - loss: 32.3563 - accuracy: 0.5499 - val_loss: 16.5274 - val_accuracy: 0.5476\n",
      "\n",
      "Epoch 00014: val_accuracy did not improve from 0.66667\n",
      "Epoch 15/100\n",
      "1344/1344 [==============================] - 0s 44us/step - loss: 28.6359 - accuracy: 0.5580 - val_loss: 43.0794 - val_accuracy: 0.5000\n",
      "\n",
      "Epoch 00015: val_accuracy did not improve from 0.66667\n",
      "Epoch 16/100\n",
      "1344/1344 [==============================] - 0s 39us/step - loss: 40.5195 - accuracy: 0.5506 - val_loss: 9.4051 - val_accuracy: 0.6042\n",
      "\n",
      "Epoch 00016: val_accuracy did not improve from 0.66667\n",
      "Epoch 17/100\n",
      "1344/1344 [==============================] - 0s 45us/step - loss: 32.4979 - accuracy: 0.5588 - val_loss: 131.7674 - val_accuracy: 0.5089\n",
      "\n",
      "Epoch 00017: val_accuracy did not improve from 0.66667\n",
      "Epoch 18/100\n",
      "1344/1344 [==============================] - 0s 53us/step - loss: 59.0889 - accuracy: 0.5335 - val_loss: 37.5754 - val_accuracy: 0.5208\n",
      "\n",
      "Epoch 00018: val_accuracy did not improve from 0.66667\n",
      "Epoch 19/100\n",
      "1344/1344 [==============================] - 0s 39us/step - loss: 17.4297 - accuracy: 0.6027 - val_loss: 14.9798 - val_accuracy: 0.5238\n",
      "\n",
      "Epoch 00019: val_accuracy did not improve from 0.66667\n",
      "Epoch 20/100\n",
      "1344/1344 [==============================] - 0s 39us/step - loss: 30.5158 - accuracy: 0.5350 - val_loss: 59.9341 - val_accuracy: 0.5000\n",
      "\n",
      "Epoch 00020: val_accuracy did not improve from 0.66667\n",
      "Epoch 21/100\n",
      "1344/1344 [==============================] - 0s 39us/step - loss: 31.5616 - accuracy: 0.5476 - val_loss: 25.6917 - val_accuracy: 0.5327\n",
      "\n",
      "Epoch 00021: val_accuracy did not improve from 0.66667\n",
      "Epoch 22/100\n",
      "1344/1344 [==============================] - 0s 44us/step - loss: 12.9684 - accuracy: 0.5975 - val_loss: 26.4915 - val_accuracy: 0.5327\n",
      "\n",
      "Epoch 00022: val_accuracy did not improve from 0.66667\n",
      "Epoch 23/100\n",
      "1344/1344 [==============================] - 0s 50us/step - loss: 17.1063 - accuracy: 0.5655 - val_loss: 17.4013 - val_accuracy: 0.5625\n",
      "\n",
      "Epoch 00023: val_accuracy did not improve from 0.66667\n",
      "Epoch 24/100\n",
      "1344/1344 [==============================] - 0s 46us/step - loss: 32.1425 - accuracy: 0.5655 - val_loss: 50.3093 - val_accuracy: 0.4970\n",
      "\n",
      "Epoch 00024: val_accuracy did not improve from 0.66667\n",
      "Epoch 25/100\n",
      "1344/1344 [==============================] - 0s 50us/step - loss: 28.1554 - accuracy: 0.5543 - val_loss: 26.2809 - val_accuracy: 0.5446\n",
      "\n",
      "Epoch 00025: val_accuracy did not improve from 0.66667\n",
      "Epoch 26/100\n",
      "1344/1344 [==============================] - 0s 61us/step - loss: 25.7544 - accuracy: 0.5387 - val_loss: 22.6804 - val_accuracy: 0.5595\n",
      "\n",
      "Epoch 00026: val_accuracy did not improve from 0.66667\n",
      "Epoch 27/100\n",
      "1344/1344 [==============================] - 0s 38us/step - loss: 31.7865 - accuracy: 0.5402 - val_loss: 26.5855 - val_accuracy: 0.5685\n",
      "\n",
      "Epoch 00027: val_accuracy did not improve from 0.66667\n",
      "Epoch 28/100\n",
      "1344/1344 [==============================] - 0s 36us/step - loss: 20.0911 - accuracy: 0.5722 - val_loss: 8.9031 - val_accuracy: 0.5685\n",
      "\n",
      "Epoch 00028: val_accuracy did not improve from 0.66667\n",
      "Epoch 29/100\n",
      "1344/1344 [==============================] - 0s 35us/step - loss: 34.4699 - accuracy: 0.5506 - val_loss: 7.3795 - val_accuracy: 0.6994\n",
      "\n",
      "Epoch 00029: val_accuracy improved from 0.66667 to 0.69940, saving model to Employee_weights-improvement-29-0.70.hdf5\n",
      "Epoch 30/100\n",
      "1344/1344 [==============================] - 0s 41us/step - loss: 32.2732 - accuracy: 0.5618 - val_loss: 22.7942 - val_accuracy: 0.5417\n",
      "\n",
      "Epoch 00030: val_accuracy did not improve from 0.69940\n",
      "Epoch 31/100\n",
      "1344/1344 [==============================] - ETA: 0s - loss: 25.3442 - accuracy: 0.500 - 0s 37us/step - loss: 20.0067 - accuracy: 0.5707 - val_loss: 4.6792 - val_accuracy: 0.6399\n",
      "\n",
      "Epoch 00031: val_accuracy did not improve from 0.69940\n",
      "Epoch 32/100\n",
      "1344/1344 [==============================] - 0s 41us/step - loss: 16.0579 - accuracy: 0.5774 - val_loss: 12.9035 - val_accuracy: 0.5625\n",
      "\n",
      "Epoch 00032: val_accuracy did not improve from 0.69940\n",
      "Epoch 33/100\n",
      "1344/1344 [==============================] - 0s 40us/step - loss: 41.4116 - accuracy: 0.5320 - val_loss: 6.7919 - val_accuracy: 0.7173\n",
      "\n",
      "Epoch 00033: val_accuracy improved from 0.69940 to 0.71726, saving model to Employee_weights-improvement-33-0.72.hdf5\n",
      "Epoch 34/100\n",
      "1344/1344 [==============================] - 0s 40us/step - loss: 25.2139 - accuracy: 0.5491 - val_loss: 32.2408 - val_accuracy: 0.5060\n",
      "\n",
      "Epoch 00034: val_accuracy did not improve from 0.71726\n",
      "Epoch 35/100\n",
      "1344/1344 [==============================] - 0s 40us/step - loss: 18.9322 - accuracy: 0.5618 - val_loss: 9.7722 - val_accuracy: 0.5625\n",
      "\n",
      "Epoch 00035: val_accuracy did not improve from 0.71726\n",
      "Epoch 36/100\n",
      "1344/1344 [==============================] - 0s 39us/step - loss: 19.2319 - accuracy: 0.5521 - val_loss: 20.2198 - val_accuracy: 0.5446\n",
      "\n",
      "Epoch 00036: val_accuracy did not improve from 0.71726\n",
      "Epoch 37/100\n",
      "1344/1344 [==============================] - 0s 38us/step - loss: 17.3420 - accuracy: 0.5900 - val_loss: 13.5708 - val_accuracy: 0.5060\n",
      "\n",
      "Epoch 00037: val_accuracy did not improve from 0.71726\n",
      "Epoch 38/100\n",
      "1344/1344 [==============================] - 0s 38us/step - loss: 13.0274 - accuracy: 0.6183 - val_loss: 41.2337 - val_accuracy: 0.5000\n",
      "\n",
      "Epoch 00038: val_accuracy did not improve from 0.71726\n",
      "Epoch 39/100\n"
     ]
    },
    {
     "name": "stdout",
     "output_type": "stream",
     "text": [
      "1344/1344 [==============================] - 0s 40us/step - loss: 21.2712 - accuracy: 0.5632 - val_loss: 3.4074 - val_accuracy: 0.6845\n",
      "\n",
      "Epoch 00039: val_accuracy did not improve from 0.71726\n",
      "Epoch 40/100\n",
      "1344/1344 [==============================] - 0s 39us/step - loss: 30.0716 - accuracy: 0.5513 - val_loss: 43.0824 - val_accuracy: 0.5000\n",
      "\n",
      "Epoch 00040: val_accuracy did not improve from 0.71726\n",
      "Epoch 41/100\n",
      "1344/1344 [==============================] - 0s 37us/step - loss: 28.4395 - accuracy: 0.5610 - val_loss: 19.0157 - val_accuracy: 0.5327\n",
      "\n",
      "Epoch 00041: val_accuracy did not improve from 0.71726\n",
      "Epoch 42/100\n",
      "1344/1344 [==============================] - 0s 43us/step - loss: 15.0393 - accuracy: 0.5818 - val_loss: 18.4444 - val_accuracy: 0.5327\n",
      "\n",
      "Epoch 00042: val_accuracy did not improve from 0.71726\n",
      "Epoch 43/100\n",
      "1344/1344 [==============================] - 0s 40us/step - loss: 19.9013 - accuracy: 0.5640 - val_loss: 16.2294 - val_accuracy: 0.5863\n",
      "\n",
      "Epoch 00043: val_accuracy did not improve from 0.71726\n",
      "Epoch 44/100\n",
      "1344/1344 [==============================] - 0s 41us/step - loss: 14.5713 - accuracy: 0.6138 - val_loss: 9.0495 - val_accuracy: 0.5298\n",
      "\n",
      "Epoch 00044: val_accuracy did not improve from 0.71726\n",
      "Epoch 45/100\n",
      "1344/1344 [==============================] - 0s 39us/step - loss: 9.7114 - accuracy: 0.5923 - val_loss: 3.8756 - val_accuracy: 0.7173\n",
      "\n",
      "Epoch 00045: val_accuracy did not improve from 0.71726\n",
      "Epoch 46/100\n",
      "1344/1344 [==============================] - 0s 37us/step - loss: 17.3973 - accuracy: 0.5841 - val_loss: 21.8193 - val_accuracy: 0.5595\n",
      "\n",
      "Epoch 00046: val_accuracy did not improve from 0.71726\n",
      "Epoch 47/100\n",
      "1344/1344 [==============================] - 0s 37us/step - loss: 16.9042 - accuracy: 0.5833 - val_loss: 42.5978 - val_accuracy: 0.5000\n",
      "\n",
      "Epoch 00047: val_accuracy did not improve from 0.71726\n",
      "Epoch 48/100\n",
      "1344/1344 [==============================] - 0s 37us/step - loss: 16.5908 - accuracy: 0.5595 - val_loss: 25.4266 - val_accuracy: 0.5060\n",
      "\n",
      "Epoch 00048: val_accuracy did not improve from 0.71726\n",
      "Epoch 49/100\n",
      "1344/1344 [==============================] - 0s 38us/step - loss: 40.9113 - accuracy: 0.5268 - val_loss: 26.7878 - val_accuracy: 0.5327\n",
      "\n",
      "Epoch 00049: val_accuracy did not improve from 0.71726\n",
      "Epoch 50/100\n",
      "1344/1344 [==============================] - 0s 37us/step - loss: 33.3096 - accuracy: 0.5565 - val_loss: 5.9195 - val_accuracy: 0.6875\n",
      "\n",
      "Epoch 00050: val_accuracy did not improve from 0.71726\n",
      "Epoch 51/100\n",
      "1344/1344 [==============================] - 0s 37us/step - loss: 10.1437 - accuracy: 0.6049 - val_loss: 10.4789 - val_accuracy: 0.6310\n",
      "\n",
      "Epoch 00051: val_accuracy did not improve from 0.71726\n",
      "Epoch 52/100\n",
      "1344/1344 [==============================] - 0s 42us/step - loss: 11.6901 - accuracy: 0.6190 - val_loss: 7.4329 - val_accuracy: 0.6518\n",
      "\n",
      "Epoch 00052: val_accuracy did not improve from 0.71726\n",
      "Epoch 53/100\n",
      "1344/1344 [==============================] - 0s 49us/step - loss: 11.9418 - accuracy: 0.6027 - val_loss: 12.6652 - val_accuracy: 0.5714\n",
      "\n",
      "Epoch 00053: val_accuracy did not improve from 0.71726\n",
      "Epoch 54/100\n",
      "1344/1344 [==============================] - 0s 39us/step - loss: 14.7451 - accuracy: 0.5580 - val_loss: 17.5234 - val_accuracy: 0.5327\n",
      "\n",
      "Epoch 00054: val_accuracy did not improve from 0.71726\n",
      "Epoch 55/100\n",
      "1344/1344 [==============================] - 0s 37us/step - loss: 17.9776 - accuracy: 0.5588 - val_loss: 13.3976 - val_accuracy: 0.5685\n",
      "\n",
      "Epoch 00055: val_accuracy did not improve from 0.71726\n",
      "Epoch 56/100\n",
      "1344/1344 [==============================] - 0s 38us/step - loss: 7.8727 - accuracy: 0.5893 - val_loss: 5.0240 - val_accuracy: 0.6220\n",
      "\n",
      "Epoch 00056: val_accuracy did not improve from 0.71726\n",
      "Epoch 57/100\n",
      "1344/1344 [==============================] - 0s 38us/step - loss: 15.4219 - accuracy: 0.5751 - val_loss: 31.7396 - val_accuracy: 0.5000\n",
      "\n",
      "Epoch 00057: val_accuracy did not improve from 0.71726\n",
      "Epoch 58/100\n",
      "1344/1344 [==============================] - 0s 38us/step - loss: 29.2623 - accuracy: 0.5424 - val_loss: 6.4818 - val_accuracy: 0.5744\n",
      "\n",
      "Epoch 00058: val_accuracy did not improve from 0.71726\n",
      "Epoch 59/100\n",
      "1344/1344 [==============================] - 0s 36us/step - loss: 10.6589 - accuracy: 0.5848 - val_loss: 15.9030 - val_accuracy: 0.6161\n",
      "\n",
      "Epoch 00059: val_accuracy did not improve from 0.71726\n",
      "Epoch 60/100\n",
      "1344/1344 [==============================] - 0s 39us/step - loss: 13.2912 - accuracy: 0.5915 - val_loss: 11.9098 - val_accuracy: 0.5268\n",
      "\n",
      "Epoch 00060: val_accuracy did not improve from 0.71726\n",
      "Epoch 61/100\n",
      "1344/1344 [==============================] - 0s 41us/step - loss: 10.2802 - accuracy: 0.6161 - val_loss: 9.2389 - val_accuracy: 0.5625\n",
      "\n",
      "Epoch 00061: val_accuracy did not improve from 0.71726\n",
      "Epoch 62/100\n",
      "1344/1344 [==============================] - 0s 38us/step - loss: 12.6366 - accuracy: 0.5856 - val_loss: 5.8697 - val_accuracy: 0.6042\n",
      "\n",
      "Epoch 00062: val_accuracy did not improve from 0.71726\n",
      "Epoch 63/100\n",
      "1344/1344 [==============================] - 0s 37us/step - loss: 9.4689 - accuracy: 0.5975 - val_loss: 3.9298 - val_accuracy: 0.6905\n",
      "\n",
      "Epoch 00063: val_accuracy did not improve from 0.71726\n",
      "Epoch 64/100\n",
      "1344/1344 [==============================] - 0s 36us/step - loss: 14.8565 - accuracy: 0.6042 - val_loss: 8.2390 - val_accuracy: 0.6101\n",
      "\n",
      "Epoch 00064: val_accuracy did not improve from 0.71726\n",
      "Epoch 65/100\n",
      "1344/1344 [==============================] - 0s 37us/step - loss: 26.1774 - accuracy: 0.5223 - val_loss: 4.9440 - val_accuracy: 0.7292\n",
      "\n",
      "Epoch 00065: val_accuracy improved from 0.71726 to 0.72917, saving model to Employee_weights-improvement-65-0.73.hdf5\n",
      "Epoch 66/100\n",
      "1344/1344 [==============================] - 0s 36us/step - loss: 24.2112 - accuracy: 0.5714 - val_loss: 18.2996 - val_accuracy: 0.5655\n",
      "\n",
      "Epoch 00066: val_accuracy did not improve from 0.72917\n",
      "Epoch 67/100\n",
      "1344/1344 [==============================] - 0s 37us/step - loss: 13.3761 - accuracy: 0.5938 - val_loss: 19.6881 - val_accuracy: 0.5357\n",
      "\n",
      "Epoch 00067: val_accuracy did not improve from 0.72917\n",
      "Epoch 68/100\n",
      "1344/1344 [==============================] - 0s 39us/step - loss: 17.1467 - accuracy: 0.5610 - val_loss: 26.0317 - val_accuracy: 0.5625\n",
      "\n",
      "Epoch 00068: val_accuracy did not improve from 0.72917\n",
      "Epoch 69/100\n",
      "1344/1344 [==============================] - 0s 38us/step - loss: 23.7068 - accuracy: 0.5573 - val_loss: 6.4924 - val_accuracy: 0.5893\n",
      "\n",
      "Epoch 00069: val_accuracy did not improve from 0.72917\n",
      "Epoch 70/100\n",
      "1344/1344 [==============================] - 0s 36us/step - loss: 5.4242 - accuracy: 0.6443 - val_loss: 7.1332 - val_accuracy: 0.5923\n",
      "\n",
      "Epoch 00070: val_accuracy did not improve from 0.72917\n",
      "Epoch 71/100\n",
      "1344/1344 [==============================] - 0s 38us/step - loss: 7.2110 - accuracy: 0.6369 - val_loss: 7.4988 - val_accuracy: 0.5923\n",
      "\n",
      "Epoch 00071: val_accuracy did not improve from 0.72917\n",
      "Epoch 72/100\n",
      "1344/1344 [==============================] - 0s 37us/step - loss: 11.2798 - accuracy: 0.5982 - val_loss: 4.3332 - val_accuracy: 0.6518\n",
      "\n",
      "Epoch 00072: val_accuracy did not improve from 0.72917\n",
      "Epoch 73/100\n",
      "1344/1344 [==============================] - 0s 38us/step - loss: 6.1377 - accuracy: 0.6243 - val_loss: 10.9791 - val_accuracy: 0.5714\n",
      "\n",
      "Epoch 00073: val_accuracy did not improve from 0.72917\n",
      "Epoch 74/100\n",
      "1344/1344 [==============================] - 0s 38us/step - loss: 13.9099 - accuracy: 0.5588 - val_loss: 15.8483 - val_accuracy: 0.5238\n",
      "\n",
      "Epoch 00074: val_accuracy did not improve from 0.72917\n",
      "Epoch 75/100\n",
      "1344/1344 [==============================] - ETA: 0s - loss: 10.3326 - accuracy: 0.625 - 0s 36us/step - loss: 8.8374 - accuracy: 0.5952 - val_loss: 2.6194 - val_accuracy: 0.7292\n",
      "\n",
      "Epoch 00075: val_accuracy did not improve from 0.72917\n",
      "Epoch 76/100\n",
      "1344/1344 [==============================] - 0s 37us/step - loss: 7.3659 - accuracy: 0.6079 - val_loss: 11.1933 - val_accuracy: 0.5714\n",
      "\n",
      "Epoch 00076: val_accuracy did not improve from 0.72917\n",
      "Epoch 77/100\n",
      "1344/1344 [==============================] - 0s 38us/step - loss: 9.8543 - accuracy: 0.5863 - val_loss: 23.1418 - val_accuracy: 0.5089\n",
      "\n",
      "Epoch 00077: val_accuracy did not improve from 0.72917\n",
      "Epoch 78/100\n",
      "1344/1344 [==============================] - 0s 37us/step - loss: 12.1209 - accuracy: 0.5685 - val_loss: 6.9326 - val_accuracy: 0.5565\n"
     ]
    },
    {
     "name": "stdout",
     "output_type": "stream",
     "text": [
      "\n",
      "Epoch 00078: val_accuracy did not improve from 0.72917\n",
      "Epoch 79/100\n",
      "1344/1344 [==============================] - 0s 35us/step - loss: 17.5199 - accuracy: 0.5580 - val_loss: 5.4089 - val_accuracy: 0.7054\n",
      "\n",
      "Epoch 00079: val_accuracy did not improve from 0.72917\n",
      "Epoch 80/100\n",
      "1344/1344 [==============================] - 0s 40us/step - loss: 12.6401 - accuracy: 0.5818 - val_loss: 11.0568 - val_accuracy: 0.5179\n",
      "\n",
      "Epoch 00080: val_accuracy did not improve from 0.72917\n",
      "Epoch 81/100\n",
      "1344/1344 [==============================] - 0s 37us/step - loss: 14.8407 - accuracy: 0.5670 - val_loss: 6.1858 - val_accuracy: 0.6012\n",
      "\n",
      "Epoch 00081: val_accuracy did not improve from 0.72917\n",
      "Epoch 82/100\n",
      "1344/1344 [==============================] - 0s 37us/step - loss: 6.4258 - accuracy: 0.6265 - val_loss: 3.3068 - val_accuracy: 0.7143\n",
      "\n",
      "Epoch 00082: val_accuracy did not improve from 0.72917\n",
      "Epoch 83/100\n",
      "1344/1344 [==============================] - 0s 37us/step - loss: 8.9829 - accuracy: 0.6272 - val_loss: 7.2421 - val_accuracy: 0.6131\n",
      "\n",
      "Epoch 00083: val_accuracy did not improve from 0.72917\n",
      "Epoch 84/100\n",
      "1344/1344 [==============================] - 0s 36us/step - loss: 18.3220 - accuracy: 0.5662 - val_loss: 24.2142 - val_accuracy: 0.5268\n",
      "\n",
      "Epoch 00084: val_accuracy did not improve from 0.72917\n",
      "Epoch 85/100\n",
      "1344/1344 [==============================] - 0s 44us/step - loss: 7.2491 - accuracy: 0.6205 - val_loss: 8.2469 - val_accuracy: 0.5536\n",
      "\n",
      "Epoch 00085: val_accuracy did not improve from 0.72917\n",
      "Epoch 86/100\n",
      "1344/1344 [==============================] - 0s 40us/step - loss: 4.9184 - accuracy: 0.6324 - val_loss: 4.4700 - val_accuracy: 0.6190\n",
      "\n",
      "Epoch 00086: val_accuracy did not improve from 0.72917\n",
      "Epoch 87/100\n",
      "1344/1344 [==============================] - 0s 38us/step - loss: 6.1188 - accuracy: 0.6317 - val_loss: 3.6297 - val_accuracy: 0.6577\n",
      "\n",
      "Epoch 00087: val_accuracy did not improve from 0.72917\n",
      "Epoch 88/100\n",
      "1344/1344 [==============================] - 0s 38us/step - loss: 13.0653 - accuracy: 0.5885 - val_loss: 5.8264 - val_accuracy: 0.6190\n",
      "\n",
      "Epoch 00088: val_accuracy did not improve from 0.72917\n",
      "Epoch 89/100\n",
      "1344/1344 [==============================] - 0s 37us/step - loss: 20.8855 - accuracy: 0.5409 - val_loss: 8.2642 - val_accuracy: 0.6756\n",
      "\n",
      "Epoch 00089: val_accuracy did not improve from 0.72917\n",
      "Epoch 90/100\n",
      "1344/1344 [==============================] - 0s 37us/step - loss: 10.0886 - accuracy: 0.5848 - val_loss: 10.4367 - val_accuracy: 0.5238\n",
      "\n",
      "Epoch 00090: val_accuracy did not improve from 0.72917\n",
      "Epoch 91/100\n",
      "1344/1344 [==============================] - 0s 37us/step - loss: 8.4956 - accuracy: 0.6004 - val_loss: 33.5672 - val_accuracy: 0.5387\n",
      "\n",
      "Epoch 00091: val_accuracy did not improve from 0.72917\n",
      "Epoch 92/100\n",
      "1344/1344 [==============================] - 0s 39us/step - loss: 14.7837 - accuracy: 0.5707 - val_loss: 4.5728 - val_accuracy: 0.6607\n",
      "\n",
      "Epoch 00092: val_accuracy did not improve from 0.72917\n",
      "Epoch 93/100\n",
      "1344/1344 [==============================] - 0s 37us/step - loss: 6.8845 - accuracy: 0.6116 - val_loss: 17.9439 - val_accuracy: 0.5655\n",
      "\n",
      "Epoch 00093: val_accuracy did not improve from 0.72917\n",
      "Epoch 94/100\n",
      "1344/1344 [==============================] - 0s 37us/step - loss: 8.3572 - accuracy: 0.5871 - val_loss: 3.2529 - val_accuracy: 0.6310\n",
      "\n",
      "Epoch 00094: val_accuracy did not improve from 0.72917\n",
      "Epoch 95/100\n",
      "1344/1344 [==============================] - 0s 37us/step - loss: 9.4346 - accuracy: 0.5818 - val_loss: 8.4713 - val_accuracy: 0.6339\n",
      "\n",
      "Epoch 00095: val_accuracy did not improve from 0.72917\n",
      "Epoch 96/100\n",
      "1344/1344 [==============================] - 0s 38us/step - loss: 11.5291 - accuracy: 0.6213 - val_loss: 5.1565 - val_accuracy: 0.6935\n",
      "\n",
      "Epoch 00096: val_accuracy did not improve from 0.72917\n",
      "Epoch 97/100\n",
      "1344/1344 [==============================] - 0s 39us/step - loss: 10.7748 - accuracy: 0.5699 - val_loss: 11.8520 - val_accuracy: 0.5476\n",
      "\n",
      "Epoch 00097: val_accuracy did not improve from 0.72917\n",
      "Epoch 98/100\n",
      "1344/1344 [==============================] - 0s 38us/step - loss: 5.4515 - accuracy: 0.6198 - val_loss: 2.7574 - val_accuracy: 0.6756\n",
      "\n",
      "Epoch 00098: val_accuracy did not improve from 0.72917\n",
      "Epoch 99/100\n",
      "1344/1344 [==============================] - 0s 38us/step - loss: 7.9458 - accuracy: 0.5915 - val_loss: 11.1474 - val_accuracy: 0.5089\n",
      "\n",
      "Epoch 00099: val_accuracy did not improve from 0.72917\n",
      "Epoch 100/100\n",
      "1344/1344 [==============================] - 0s 36us/step - loss: 6.8330 - accuracy: 0.5952 - val_loss: 7.9864 - val_accuracy: 0.5446\n",
      "\n",
      "Epoch 00100: val_accuracy did not improve from 0.72917\n"
     ]
    }
   ],
   "source": [
    "history=model.fit(x_train,y_train_cat,epochs=100,callbacks=callbacks_list,validation_data=(x_test,y_test_cat),verbose=1)"
   ]
  },
  {
   "cell_type": "code",
   "execution_count": 25,
   "metadata": {
    "colab": {},
    "colab_type": "code",
    "id": "Wx1mWdhPuv7_"
   },
   "outputs": [],
   "source": [
    "model.save(r'C:\\Users\\Balagopal\\Desktop\\Project\\Capstone\\Employee_attrition.h5')\n"
   ]
  },
  {
   "cell_type": "code",
   "execution_count": 26,
   "metadata": {
    "colab": {},
    "colab_type": "code",
    "id": "ykktMB5Duv8L"
   },
   "outputs": [],
   "source": [
    "Model=load_model(r'C:\\Users\\Balagopal\\Desktop\\Project\\Capstone\\Employee_attrition.h5')"
   ]
  },
  {
   "cell_type": "code",
   "execution_count": 27,
   "metadata": {
    "colab": {},
    "colab_type": "code",
    "id": "Fpg3bBNTuv8Z"
   },
   "outputs": [],
   "source": [
    "Model.load_weights(r'Employee_weights-improvement-65-0.73.hdf5')"
   ]
  },
  {
   "cell_type": "code",
   "execution_count": 28,
   "metadata": {
    "colab": {
     "base_uri": "https://localhost:8080/",
     "height": 50
    },
    "colab_type": "code",
    "id": "vXZK48WXuv8z",
    "outputId": "e837290f-e3a2-4912-f149-fb82077df4c6"
   },
   "outputs": [
    {
     "name": "stdout",
     "output_type": "stream",
     "text": [
      "336/336 [==============================] - 0s 86us/step\n"
     ]
    },
    {
     "data": {
      "text/plain": [
       "[4.943962846483503, 0.7291666865348816]"
      ]
     },
     "execution_count": 28,
     "metadata": {},
     "output_type": "execute_result"
    }
   ],
   "source": [
    "Model.evaluate(x_test,y_test_cat)"
   ]
  },
  {
   "cell_type": "code",
   "execution_count": 29,
   "metadata": {
    "colab": {
     "base_uri": "https://localhost:8080/",
     "height": 282
    },
    "colab_type": "code",
    "id": "8HR3l0XvwaFF",
    "outputId": "da053ef6-c10a-45ff-e38f-6111e7f18a23"
   },
   "outputs": [
    {
     "data": {
      "text/plain": [
       "<matplotlib.axes._subplots.AxesSubplot at 0x22c7a422978>"
      ]
     },
     "execution_count": 29,
     "metadata": {},
     "output_type": "execute_result"
    },
    {
     "data": {
      "image/png": "[encoded data removed]",
      "text/plain": [
       "<Figure size 432x288 with 2 Axes>"
      ]
     },
     "metadata": {
      "needs_background": "light"
     },
     "output_type": "display_data"
    }
   ],
   "source": [
    "sns.heatmap(confusion_matrix(Model.predict_classes(x_test),y_test),annot=True,fmt='d')"
   ]
  },
  {
   "cell_type": "code",
   "execution_count": 30,
   "metadata": {
    "colab": {
     "base_uri": "https://localhost:8080/",
     "height": 34
    },
    "colab_type": "code",
    "id": "eniAPg0SdAdT",
    "outputId": "8f596dcf-f82a-4aee-cbfe-dddb4c4d6c3a"
   },
   "outputs": [
    {
     "name": "stdout",
     "output_type": "stream",
     "text": [
      "336/336 [==============================] - 0s 21us/step\n"
     ]
    }
   ],
   "source": [
    "acc_ann=Model.evaluate(x_test,y_test_cat)[1]"
   ]
  },
  {
   "cell_type": "code",
   "execution_count": 31,
   "metadata": {
    "colab": {
     "base_uri": "https://localhost:8080/",
     "height": 151
    },
    "colab_type": "code",
    "id": "Z1Ia49dUuv9D",
    "outputId": "5f5e4a97-16bb-4156-dcb8-7e803a426b12"
   },
   "outputs": [
    {
     "data": {
      "text/plain": [
       "RandomForestClassifier(n_estimators=200)"
      ]
     },
     "execution_count": 31,
     "metadata": {},
     "output_type": "execute_result"
    }
   ],
   "source": [
    "rf=RandomForestClassifier(n_estimators=200)\n",
    "rf.fit(x_train,y_train)"
   ]
  },
  {
   "cell_type": "code",
   "execution_count": 54,
   "metadata": {
    "colab": {},
    "colab_type": "code",
    "id": "vlFV2Srsuv9P"
   },
   "outputs": [],
   "source": [
    "acc_rf=rf.score(x_test,y_test)"
   ]
  },
  {
   "cell_type": "code",
   "execution_count": 33,
   "metadata": {
    "colab": {
     "base_uri": "https://localhost:8080/",
     "height": 282
    },
    "colab_type": "code",
    "id": "uyeDPuT3xf7O",
    "outputId": "07eed4ed-4b44-4bc8-e33f-9e06be69c1fb"
   },
   "outputs": [
    {
     "data": {
      "text/plain": [
       "<matplotlib.axes._subplots.AxesSubplot at 0x22c7b4b3208>"
      ]
     },
     "execution_count": 33,
     "metadata": {},
     "output_type": "execute_result"
    },
    {
     "data": {
      "image/png": "[encoded data removed]",
      "text/plain": [
       "<Figure size 432x288 with 2 Axes>"
      ]
     },
     "metadata": {
      "needs_background": "light"
     },
     "output_type": "display_data"
    }
   ],
   "source": [
    "sns.heatmap(confusion_matrix(rf.predict(x_test),y_test),annot=True,cmap='BrBG_r',fmt='d')"
   ]
  },
  {
   "cell_type": "code",
   "execution_count": 34,
   "metadata": {
    "colab": {},
    "colab_type": "code",
    "id": "oZbueMd8uv9f"
   },
   "outputs": [
    {
     "data": {
      "text/plain": [
       "SVC(kernel='linear')"
      ]
     },
     "execution_count": 34,
     "metadata": {},
     "output_type": "execute_result"
    }
   ],
   "source": [
    "svm=SVC(kernel='linear')\n",
    "svm.fit(x_train,y_train)"
   ]
  },
  {
   "cell_type": "code",
   "execution_count": 35,
   "metadata": {
    "colab": {},
    "colab_type": "code",
    "id": "QEdP_6nzuv9_"
   },
   "outputs": [
    {
     "data": {
      "text/plain": [
       "0.7827380952380952"
      ]
     },
     "execution_count": 35,
     "metadata": {},
     "output_type": "execute_result"
    }
   ],
   "source": [
    "svm.score(x_test,y_test)"
   ]
  },
  {
   "cell_type": "code",
   "execution_count": 36,
   "metadata": {
    "colab": {},
    "colab_type": "code",
    "id": "Zf25dy8Ruv-L"
   },
   "outputs": [],
   "source": [
    "knn=KNeighborsClassifier(n_neighbors=5)"
   ]
  },
  {
   "cell_type": "code",
   "execution_count": 37,
   "metadata": {
    "colab": {
     "base_uri": "https://localhost:8080/",
     "height": 67
    },
    "colab_type": "code",
    "id": "YgGO3zLwuv-Y",
    "outputId": "569e53ec-7738-477c-e41f-d71460801c14"
   },
   "outputs": [
    {
     "data": {
      "text/plain": [
       "KNeighborsClassifier()"
      ]
     },
     "execution_count": 37,
     "metadata": {},
     "output_type": "execute_result"
    }
   ],
   "source": [
    "knn.fit(x_train,y_train)"
   ]
  },
  {
   "cell_type": "code",
   "execution_count": 38,
   "metadata": {
    "colab": {},
    "colab_type": "code",
    "id": "LOAraowVuv-l"
   },
   "outputs": [],
   "source": [
    "acc_knn=knn.score(x_test,y_test)"
   ]
  },
  {
   "cell_type": "code",
   "execution_count": 39,
   "metadata": {
    "colab": {
     "base_uri": "https://localhost:8080/",
     "height": 282
    },
    "colab_type": "code",
    "id": "RRJhicjYzVeC",
    "outputId": "117c8f0f-2cf7-4faf-8a0c-69b17274022b"
   },
   "outputs": [
    {
     "data": {
      "text/plain": [
       "<matplotlib.axes._subplots.AxesSubplot at 0x22c7b53c828>"
      ]
     },
     "execution_count": 39,
     "metadata": {},
     "output_type": "execute_result"
    },
    {
     "data": {
      "image/png": "[encoded data removed]",
      "text/plain": [
       "<Figure size 432x288 with 2 Axes>"
      ]
     },
     "metadata": {
      "needs_background": "light"
     },
     "output_type": "display_data"
    }
   ],
   "source": [
    "sns.heatmap(confusion_matrix(knn.predict(x_test),y_test),annot=True,cmap='Oranges_r',fmt='d')"
   ]
  },
  {
   "cell_type": "markdown",
   "metadata": {
    "colab_type": "text",
    "id": "oJRtD29kePEF"
   },
   "source": [
    "Accuracy using smote\n"
   ]
  },
  {
   "cell_type": "code",
   "execution_count": 40,
   "metadata": {
    "colab": {
     "base_uri": "https://localhost:8080/",
     "height": 77
    },
    "colab_type": "code",
    "id": "rWGpOR4Pdly4",
    "outputId": "0d08fb71-d4ef-446e-d5da-00992640e5ca"
   },
   "outputs": [
    {
     "data": {
      "text/html": [
       "<div>\n",
       "<style scoped>\n",
       "    .dataframe tbody tr th:only-of-type {\n",
       "        vertical-align: middle;\n",
       "    }\n",
       "\n",
       "    .dataframe tbody tr th {\n",
       "        vertical-align: top;\n",
       "    }\n",
       "\n",
       "    .dataframe thead th {\n",
       "        text-align: right;\n",
       "    }\n",
       "</style>\n",
       "<table border=\"1\" class=\"dataframe\">\n",
       "  <thead>\n",
       "    <tr style=\"text-align: right;\">\n",
       "      <th></th>\n",
       "      <th>RF</th>\n",
       "      <th>ANN</th>\n",
       "      <th>KNN</th>\n",
       "    </tr>\n",
       "  </thead>\n",
       "  <tbody>\n",
       "    <tr>\n",
       "      <th>Smote</th>\n",
       "      <td>0.922619</td>\n",
       "      <td>0.729167</td>\n",
       "      <td>0.764881</td>\n",
       "    </tr>\n",
       "  </tbody>\n",
       "</table>\n",
       "</div>"
      ],
      "text/plain": [
       "             RF       ANN       KNN\n",
       "Smote  0.922619  0.729167  0.764881"
      ]
     },
     "execution_count": 40,
     "metadata": {},
     "output_type": "execute_result"
    }
   ],
   "source": [
    "acc_result={'RF':acc_rf,'ANN':acc_ann,'KNN':acc_knn}\n",
    "Acc_result=pd.DataFrame(acc_result,index=['Smote'])\n",
    "Acc_result"
   ]
  },
  {
   "cell_type": "code",
   "execution_count": 41,
   "metadata": {
    "colab": {},
    "colab_type": "code",
    "id": "1hGH4Zt7eVxd"
   },
   "outputs": [],
   "source": [
    "x_train,x_test,y_train,y_test=train_test_split(x,y,stratify=y,test_size=0.2,random_state=0)"
   ]
  },
  {
   "cell_type": "code",
   "execution_count": 42,
   "metadata": {
    "colab": {},
    "colab_type": "code",
    "id": "oMoVFHZbelPJ"
   },
   "outputs": [],
   "source": [
    "y_train_cat=to_categorical(y_train,2)\n",
    "y_test_cat=to_categorical(y_test,2)"
   ]
  },
  {
   "cell_type": "code",
   "execution_count": 43,
   "metadata": {
    "colab": {},
    "colab_type": "code",
    "id": "NEI9mtmNexck"
   },
   "outputs": [],
   "source": [
    "model=Sequential()\n",
    "model.add(Dense(30,input_dim=x_train.shape[1]))\n",
    "model.add(Dense(20))\n",
    "model.add(Dense(10))\n",
    "model.add(Dense(6))\n",
    "model.add(Dense(2,activation='softmax'))"
   ]
  },
  {
   "cell_type": "code",
   "execution_count": 44,
   "metadata": {
    "colab": {},
    "colab_type": "code",
    "id": "prs0eWj6e3ZF"
   },
   "outputs": [],
   "source": [
    "filepath=\"Employee_weights-improvement_random-{epoch:02d}-{val_accuracy:.2f}.hdf5\"\n",
    "checkpoint = ModelCheckpoint(filepath, monitor='val_accuracy', verbose=1, save_best_only=True, mode='max')\n",
    "callbacks_list = [checkpoint]"
   ]
  },
  {
   "cell_type": "code",
   "execution_count": 45,
   "metadata": {
    "colab": {},
    "colab_type": "code",
    "id": "SA-fWkW4e683"
   },
   "outputs": [],
   "source": [
    "model.compile(optimizer='adam',loss='categorical_crossentropy',metrics=['accuracy'])"
   ]
  },
  {
   "cell_type": "code",
   "execution_count": 46,
   "metadata": {
    "colab": {
     "base_uri": "https://localhost:8080/",
     "height": 1000
    },
    "colab_type": "code",
    "id": "vwlObxC6fGdu",
    "outputId": "48c0e944-e0fa-4fc5-f3a0-1a3a7383911d"
   },
   "outputs": [
    {
     "name": "stdout",
     "output_type": "stream",
     "text": [
      "Train on 861 samples, validate on 216 samples\n",
      "Epoch 1/100\n",
      "861/861 [==============================] - 0s 193us/step - loss: 963.7949 - accuracy: 0.6492 - val_loss: 252.9221 - val_accuracy: 0.7870\n",
      "\n",
      "Epoch 00001: val_accuracy improved from -inf to 0.78704, saving model to Employee_weights-improvement_random-01-0.79.hdf5\n",
      "Epoch 2/100\n",
      "861/861 [==============================] - 0s 56us/step - loss: 152.9316 - accuracy: 0.6887 - val_loss: 106.4431 - val_accuracy: 0.6713\n",
      "\n",
      "Epoch 00002: val_accuracy did not improve from 0.78704\n",
      "Epoch 3/100\n",
      "861/861 [==============================] - 0s 55us/step - loss: 69.1908 - accuracy: 0.6934 - val_loss: 42.8915 - val_accuracy: 0.6759\n",
      "\n",
      "Epoch 00003: val_accuracy did not improve from 0.78704\n",
      "Epoch 4/100\n",
      "861/861 [==============================] - 0s 57us/step - loss: 42.9268 - accuracy: 0.6655 - val_loss: 8.6224 - val_accuracy: 0.6574\n",
      "\n",
      "Epoch 00004: val_accuracy did not improve from 0.78704\n",
      "Epoch 5/100\n",
      "861/861 [==============================] - 0s 54us/step - loss: 44.1080 - accuracy: 0.6783 - val_loss: 37.3368 - val_accuracy: 0.7176\n",
      "\n",
      "Epoch 00005: val_accuracy did not improve from 0.78704\n",
      "Epoch 6/100\n",
      "861/861 [==============================] - 0s 56us/step - loss: 52.3719 - accuracy: 0.6725 - val_loss: 96.2990 - val_accuracy: 0.6713\n",
      "\n",
      "Epoch 00006: val_accuracy did not improve from 0.78704\n",
      "Epoch 7/100\n",
      "861/861 [==============================] - 0s 54us/step - loss: 66.9193 - accuracy: 0.6957 - val_loss: 146.6846 - val_accuracy: 0.7778\n",
      "\n",
      "Epoch 00007: val_accuracy did not improve from 0.78704\n",
      "Epoch 8/100\n",
      "861/861 [==============================] - 0s 50us/step - loss: 35.7381 - accuracy: 0.7073 - val_loss: 9.1523 - val_accuracy: 0.7778\n",
      "\n",
      "Epoch 00008: val_accuracy did not improve from 0.78704\n",
      "Epoch 9/100\n",
      "861/861 [==============================] - 0s 53us/step - loss: 62.1234 - accuracy: 0.6667 - val_loss: 83.4988 - val_accuracy: 0.5046\n",
      "\n",
      "Epoch 00009: val_accuracy did not improve from 0.78704\n",
      "Epoch 10/100\n",
      "861/861 [==============================] - 0s 48us/step - loss: 43.9821 - accuracy: 0.6806 - val_loss: 34.0847 - val_accuracy: 0.5278\n",
      "\n",
      "Epoch 00010: val_accuracy did not improve from 0.78704\n",
      "Epoch 11/100\n",
      "861/861 [==============================] - 0s 51us/step - loss: 49.3490 - accuracy: 0.6597 - val_loss: 46.9729 - val_accuracy: 0.7731\n",
      "\n",
      "Epoch 00011: val_accuracy did not improve from 0.78704\n",
      "Epoch 12/100\n",
      "861/861 [==============================] - 0s 45us/step - loss: 61.3045 - accuracy: 0.6760 - val_loss: 145.6444 - val_accuracy: 0.7778\n",
      "\n",
      "Epoch 00012: val_accuracy did not improve from 0.78704\n",
      "Epoch 13/100\n",
      "861/861 [==============================] - 0s 43us/step - loss: 73.4899 - accuracy: 0.6783 - val_loss: 105.7323 - val_accuracy: 0.7778\n",
      "\n",
      "Epoch 00013: val_accuracy did not improve from 0.78704\n",
      "Epoch 14/100\n",
      "861/861 [==============================] - 0s 45us/step - loss: 60.1279 - accuracy: 0.7038 - val_loss: 50.7553 - val_accuracy: 0.7778\n",
      "\n",
      "Epoch 00014: val_accuracy did not improve from 0.78704\n",
      "Epoch 15/100\n",
      "861/861 [==============================] - 0s 51us/step - loss: 33.3641 - accuracy: 0.6876 - val_loss: 59.0849 - val_accuracy: 0.7870\n",
      "\n",
      "Epoch 00015: val_accuracy did not improve from 0.78704\n",
      "Epoch 16/100\n",
      "861/861 [==============================] - 0s 52us/step - loss: 49.9274 - accuracy: 0.6690 - val_loss: 6.4685 - val_accuracy: 0.8009\n",
      "\n",
      "Epoch 00016: val_accuracy improved from 0.78704 to 0.80093, saving model to Employee_weights-improvement_random-16-0.80.hdf5\n",
      "Epoch 17/100\n",
      "861/861 [==============================] - 0s 52us/step - loss: 29.2713 - accuracy: 0.7120 - val_loss: 50.4715 - val_accuracy: 0.3981\n",
      "\n",
      "Epoch 00017: val_accuracy did not improve from 0.80093\n",
      "Epoch 18/100\n",
      "861/861 [==============================] - 0s 46us/step - loss: 23.5038 - accuracy: 0.6887 - val_loss: 27.7151 - val_accuracy: 0.7778\n",
      "\n",
      "Epoch 00018: val_accuracy did not improve from 0.80093\n",
      "Epoch 19/100\n",
      "861/861 [==============================] - 0s 45us/step - loss: 26.3061 - accuracy: 0.6852 - val_loss: 72.6192 - val_accuracy: 0.7778\n",
      "\n",
      "Epoch 00019: val_accuracy did not improve from 0.80093\n",
      "Epoch 20/100\n",
      "861/861 [==============================] - 0s 44us/step - loss: 26.4020 - accuracy: 0.6690 - val_loss: 25.2471 - val_accuracy: 0.8009\n",
      "\n",
      "Epoch 00020: val_accuracy did not improve from 0.80093\n",
      "Epoch 21/100\n",
      "861/861 [==============================] - 0s 50us/step - loss: 61.4689 - accuracy: 0.6969 - val_loss: 59.5156 - val_accuracy: 0.4630\n",
      "\n",
      "Epoch 00021: val_accuracy did not improve from 0.80093\n",
      "Epoch 22/100\n",
      "861/861 [==============================] - 0s 43us/step - loss: 64.1145 - accuracy: 0.6992 - val_loss: 12.4865 - val_accuracy: 0.6898\n",
      "\n",
      "Epoch 00022: val_accuracy did not improve from 0.80093\n",
      "Epoch 23/100\n",
      "861/861 [==============================] - 0s 57us/step - loss: 30.1612 - accuracy: 0.6655 - val_loss: 14.0000 - val_accuracy: 0.8194\n",
      "\n",
      "Epoch 00023: val_accuracy improved from 0.80093 to 0.81944, saving model to Employee_weights-improvement_random-23-0.82.hdf5\n",
      "Epoch 24/100\n",
      "861/861 [==============================] - 0s 42us/step - loss: 21.8614 - accuracy: 0.6911 - val_loss: 11.9373 - val_accuracy: 0.4352\n",
      "\n",
      "Epoch 00024: val_accuracy did not improve from 0.81944\n",
      "Epoch 25/100\n",
      "861/861 [==============================] - 0s 50us/step - loss: 29.5320 - accuracy: 0.7201 - val_loss: 98.3054 - val_accuracy: 0.2870\n",
      "\n",
      "Epoch 00025: val_accuracy did not improve from 0.81944\n",
      "Epoch 26/100\n",
      "861/861 [==============================] - 0s 45us/step - loss: 54.8301 - accuracy: 0.6899 - val_loss: 45.5960 - val_accuracy: 0.7778\n",
      "\n",
      "Epoch 00026: val_accuracy did not improve from 0.81944\n",
      "Epoch 27/100\n",
      "861/861 [==============================] - 0s 38us/step - loss: 28.3006 - accuracy: 0.6760 - val_loss: 48.1794 - val_accuracy: 0.6065\n",
      "\n",
      "Epoch 00027: val_accuracy did not improve from 0.81944\n",
      "Epoch 28/100\n",
      "861/861 [==============================] - 0s 42us/step - loss: 41.7680 - accuracy: 0.6736 - val_loss: 30.5345 - val_accuracy: 0.7824\n",
      "\n",
      "Epoch 00028: val_accuracy did not improve from 0.81944\n",
      "Epoch 29/100\n",
      "861/861 [==============================] - 0s 39us/step - loss: 51.0963 - accuracy: 0.6957 - val_loss: 33.8759 - val_accuracy: 0.7778\n",
      "\n",
      "Epoch 00029: val_accuracy did not improve from 0.81944\n",
      "Epoch 30/100\n",
      "861/861 [==============================] - 0s 38us/step - loss: 20.3518 - accuracy: 0.7120 - val_loss: 9.0456 - val_accuracy: 0.8102\n",
      "\n",
      "Epoch 00030: val_accuracy did not improve from 0.81944\n",
      "Epoch 31/100\n",
      "861/861 [==============================] - 0s 39us/step - loss: 42.2831 - accuracy: 0.6760 - val_loss: 53.1566 - val_accuracy: 0.7778\n",
      "\n",
      "Epoch 00031: val_accuracy did not improve from 0.81944\n",
      "Epoch 32/100\n",
      "861/861 [==============================] - 0s 42us/step - loss: 41.7481 - accuracy: 0.6980 - val_loss: 81.4212 - val_accuracy: 0.7778\n",
      "\n",
      "Epoch 00032: val_accuracy did not improve from 0.81944\n",
      "Epoch 33/100\n",
      "861/861 [==============================] - 0s 39us/step - loss: 27.0962 - accuracy: 0.6969 - val_loss: 46.0322 - val_accuracy: 0.7454\n",
      "\n",
      "Epoch 00033: val_accuracy did not improve from 0.81944\n",
      "Epoch 34/100\n",
      "861/861 [==============================] - 0s 47us/step - loss: 50.6574 - accuracy: 0.6934 - val_loss: 24.0459 - val_accuracy: 0.5370\n",
      "\n",
      "Epoch 00034: val_accuracy did not improve from 0.81944\n",
      "Epoch 35/100\n",
      "861/861 [==============================] - 0s 47us/step - loss: 38.7942 - accuracy: 0.6667 - val_loss: 86.6070 - val_accuracy: 0.7778\n",
      "\n",
      "Epoch 00035: val_accuracy did not improve from 0.81944\n",
      "Epoch 36/100\n",
      "861/861 [==============================] - 0s 50us/step - loss: 32.1828 - accuracy: 0.6934 - val_loss: 12.7266 - val_accuracy: 0.6620\n",
      "\n",
      "Epoch 00036: val_accuracy did not improve from 0.81944\n",
      "Epoch 37/100\n",
      "861/861 [==============================] - 0s 44us/step - loss: 15.7855 - accuracy: 0.7027 - val_loss: 14.9981 - val_accuracy: 0.4444\n",
      "\n",
      "Epoch 00037: val_accuracy did not improve from 0.81944\n",
      "Epoch 38/100\n",
      "861/861 [==============================] - 0s 45us/step - loss: 16.5555 - accuracy: 0.6934 - val_loss: 13.7338 - val_accuracy: 0.7870\n",
      "\n",
      "Epoch 00038: val_accuracy did not improve from 0.81944\n",
      "Epoch 39/100\n",
      "861/861 [==============================] - 0s 41us/step - loss: 35.1063 - accuracy: 0.6794 - val_loss: 46.6968 - val_accuracy: 0.7778\n",
      "\n",
      "Epoch 00039: val_accuracy did not improve from 0.81944\n",
      "Epoch 40/100\n"
     ]
    },
    {
     "name": "stdout",
     "output_type": "stream",
     "text": [
      "861/861 [==============================] - 0s 39us/step - loss: 38.9865 - accuracy: 0.6887 - val_loss: 27.2090 - val_accuracy: 0.2500\n",
      "\n",
      "Epoch 00040: val_accuracy did not improve from 0.81944\n",
      "Epoch 41/100\n",
      "861/861 [==============================] - 0s 41us/step - loss: 18.0822 - accuracy: 0.6957 - val_loss: 17.0713 - val_accuracy: 0.7731\n",
      "\n",
      "Epoch 00041: val_accuracy did not improve from 0.81944\n",
      "Epoch 42/100\n",
      "861/861 [==============================] - 0s 40us/step - loss: 25.4012 - accuracy: 0.6643 - val_loss: 25.0403 - val_accuracy: 0.7870\n",
      "\n",
      "Epoch 00042: val_accuracy did not improve from 0.81944\n",
      "Epoch 43/100\n",
      "861/861 [==============================] - 0s 46us/step - loss: 34.0079 - accuracy: 0.6899 - val_loss: 37.1938 - val_accuracy: 0.7778\n",
      "\n",
      "Epoch 00043: val_accuracy did not improve from 0.81944\n",
      "Epoch 44/100\n",
      "861/861 [==============================] - 0s 45us/step - loss: 27.0339 - accuracy: 0.6899 - val_loss: 12.1666 - val_accuracy: 0.7130\n",
      "\n",
      "Epoch 00044: val_accuracy did not improve from 0.81944\n",
      "Epoch 45/100\n",
      "861/861 [==============================] - 0s 49us/step - loss: 13.5557 - accuracy: 0.6876 - val_loss: 9.0801 - val_accuracy: 0.8056\n",
      "\n",
      "Epoch 00045: val_accuracy did not improve from 0.81944\n",
      "Epoch 46/100\n",
      "861/861 [==============================] - 0s 44us/step - loss: 22.5597 - accuracy: 0.7189 - val_loss: 16.7992 - val_accuracy: 0.7824\n",
      "\n",
      "Epoch 00046: val_accuracy did not improve from 0.81944\n",
      "Epoch 47/100\n",
      "861/861 [==============================] - 0s 43us/step - loss: 22.3234 - accuracy: 0.6934 - val_loss: 94.6598 - val_accuracy: 0.3750\n",
      "\n",
      "Epoch 00047: val_accuracy did not improve from 0.81944\n",
      "Epoch 48/100\n",
      "861/861 [==============================] - 0s 46us/step - loss: 35.2583 - accuracy: 0.6806 - val_loss: 47.4164 - val_accuracy: 0.7778\n",
      "\n",
      "Epoch 00048: val_accuracy did not improve from 0.81944\n",
      "Epoch 49/100\n",
      "861/861 [==============================] - 0s 46us/step - loss: 32.8616 - accuracy: 0.6620 - val_loss: 32.7300 - val_accuracy: 0.7037\n",
      "\n",
      "Epoch 00049: val_accuracy did not improve from 0.81944\n",
      "Epoch 50/100\n",
      "861/861 [==============================] - 0s 51us/step - loss: 33.4832 - accuracy: 0.6887 - val_loss: 52.5256 - val_accuracy: 0.7778\n",
      "\n",
      "Epoch 00050: val_accuracy did not improve from 0.81944\n",
      "Epoch 51/100\n",
      "861/861 [==============================] - 0s 44us/step - loss: 28.5059 - accuracy: 0.6957 - val_loss: 20.3455 - val_accuracy: 0.7870\n",
      "\n",
      "Epoch 00051: val_accuracy did not improve from 0.81944\n",
      "Epoch 52/100\n",
      "861/861 [==============================] - 0s 44us/step - loss: 31.5732 - accuracy: 0.6818 - val_loss: 14.5399 - val_accuracy: 0.7870\n",
      "\n",
      "Epoch 00052: val_accuracy did not improve from 0.81944\n",
      "Epoch 53/100\n",
      "861/861 [==============================] - 0s 43us/step - loss: 20.4128 - accuracy: 0.6841 - val_loss: 40.8605 - val_accuracy: 0.7778\n",
      "\n",
      "Epoch 00053: val_accuracy did not improve from 0.81944\n",
      "Epoch 54/100\n",
      "861/861 [==============================] - 0s 42us/step - loss: 17.4375 - accuracy: 0.7003 - val_loss: 16.1330 - val_accuracy: 0.8056\n",
      "\n",
      "Epoch 00054: val_accuracy did not improve from 0.81944\n",
      "Epoch 55/100\n",
      "861/861 [==============================] - 0s 44us/step - loss: 22.5915 - accuracy: 0.7003 - val_loss: 7.6813 - val_accuracy: 0.7731\n",
      "\n",
      "Epoch 00055: val_accuracy did not improve from 0.81944\n",
      "Epoch 56/100\n",
      "861/861 [==============================] - 0s 41us/step - loss: 17.8014 - accuracy: 0.6887 - val_loss: 30.8209 - val_accuracy: 0.7778\n",
      "\n",
      "Epoch 00056: val_accuracy did not improve from 0.81944\n",
      "Epoch 57/100\n",
      "861/861 [==============================] - 0s 38us/step - loss: 12.2778 - accuracy: 0.7073 - val_loss: 10.6461 - val_accuracy: 0.7870\n",
      "\n",
      "Epoch 00057: val_accuracy did not improve from 0.81944\n",
      "Epoch 58/100\n",
      "861/861 [==============================] - ETA: 0s - loss: 16.7758 - accuracy: 0.687 - 0s 74us/step - loss: 16.9313 - accuracy: 0.7108 - val_loss: 17.5663 - val_accuracy: 0.7824\n",
      "\n",
      "Epoch 00058: val_accuracy did not improve from 0.81944\n",
      "Epoch 59/100\n",
      "861/861 [==============================] - 0s 65us/step - loss: 18.4230 - accuracy: 0.6969 - val_loss: 48.7004 - val_accuracy: 0.5833\n",
      "\n",
      "Epoch 00059: val_accuracy did not improve from 0.81944\n",
      "Epoch 60/100\n",
      "861/861 [==============================] - 0s 47us/step - loss: 46.9320 - accuracy: 0.6783 - val_loss: 25.0925 - val_accuracy: 0.6667\n",
      "\n",
      "Epoch 00060: val_accuracy did not improve from 0.81944\n",
      "Epoch 61/100\n",
      "861/861 [==============================] - 0s 41us/step - loss: 24.1821 - accuracy: 0.6748 - val_loss: 25.9159 - val_accuracy: 0.7778\n",
      "\n",
      "Epoch 00061: val_accuracy did not improve from 0.81944\n",
      "Epoch 62/100\n",
      "861/861 [==============================] - 0s 44us/step - loss: 18.9262 - accuracy: 0.7050 - val_loss: 24.1729 - val_accuracy: 0.7639\n",
      "\n",
      "Epoch 00062: val_accuracy did not improve from 0.81944\n",
      "Epoch 63/100\n",
      "861/861 [==============================] - 0s 45us/step - loss: 21.5257 - accuracy: 0.6945 - val_loss: 50.0473 - val_accuracy: 0.7778\n",
      "\n",
      "Epoch 00063: val_accuracy did not improve from 0.81944\n",
      "Epoch 64/100\n",
      "861/861 [==============================] - 0s 60us/step - loss: 29.3182 - accuracy: 0.6957 - val_loss: 13.4504 - val_accuracy: 0.3843\n",
      "\n",
      "Epoch 00064: val_accuracy did not improve from 0.81944\n",
      "Epoch 65/100\n",
      "861/861 [==============================] - 0s 53us/step - loss: 11.3953 - accuracy: 0.7096 - val_loss: 7.1242 - val_accuracy: 0.5741\n",
      "\n",
      "Epoch 00065: val_accuracy did not improve from 0.81944\n",
      "Epoch 66/100\n",
      "861/861 [==============================] - 0s 54us/step - loss: 22.1472 - accuracy: 0.6643 - val_loss: 16.0114 - val_accuracy: 0.7824\n",
      "\n",
      "Epoch 00066: val_accuracy did not improve from 0.81944\n",
      "Epoch 67/100\n",
      "861/861 [==============================] - 0s 44us/step - loss: 12.7016 - accuracy: 0.7178 - val_loss: 10.6771 - val_accuracy: 0.6806\n",
      "\n",
      "Epoch 00067: val_accuracy did not improve from 0.81944\n",
      "Epoch 68/100\n",
      "861/861 [==============================] - 0s 46us/step - loss: 9.4354 - accuracy: 0.7259 - val_loss: 7.0392 - val_accuracy: 0.7778\n",
      "\n",
      "Epoch 00068: val_accuracy did not improve from 0.81944\n",
      "Epoch 69/100\n",
      "861/861 [==============================] - 0s 39us/step - loss: 14.9635 - accuracy: 0.7096 - val_loss: 15.2765 - val_accuracy: 0.7824\n",
      "\n",
      "Epoch 00069: val_accuracy did not improve from 0.81944\n",
      "Epoch 70/100\n",
      "861/861 [==============================] - 0s 36us/step - loss: 18.6647 - accuracy: 0.6992 - val_loss: 18.2168 - val_accuracy: 0.7870\n",
      "\n",
      "Epoch 00070: val_accuracy did not improve from 0.81944\n",
      "Epoch 71/100\n",
      "861/861 [==============================] - 0s 41us/step - loss: 24.4010 - accuracy: 0.6713 - val_loss: 7.6478 - val_accuracy: 0.6944\n",
      "\n",
      "Epoch 00071: val_accuracy did not improve from 0.81944\n",
      "Epoch 72/100\n",
      "861/861 [==============================] - 0s 42us/step - loss: 8.1694 - accuracy: 0.7073 - val_loss: 22.1945 - val_accuracy: 0.7778\n",
      "\n",
      "Epoch 00072: val_accuracy did not improve from 0.81944\n",
      "Epoch 73/100\n",
      "861/861 [==============================] - 0s 41us/step - loss: 14.8729 - accuracy: 0.7062 - val_loss: 12.1789 - val_accuracy: 0.6991\n",
      "\n",
      "Epoch 00073: val_accuracy did not improve from 0.81944\n",
      "Epoch 74/100\n",
      "861/861 [==============================] - 0s 42us/step - loss: 17.8672 - accuracy: 0.6864 - val_loss: 19.8114 - val_accuracy: 0.7778\n",
      "\n",
      "Epoch 00074: val_accuracy did not improve from 0.81944\n",
      "Epoch 75/100\n",
      "861/861 [==============================] - 0s 42us/step - loss: 16.8879 - accuracy: 0.6911 - val_loss: 4.1355 - val_accuracy: 0.7917\n",
      "\n",
      "Epoch 00075: val_accuracy did not improve from 0.81944\n",
      "Epoch 76/100\n",
      "861/861 [==============================] - 0s 36us/step - loss: 10.2508 - accuracy: 0.6992 - val_loss: 15.9947 - val_accuracy: 0.7824\n",
      "\n",
      "Epoch 00076: val_accuracy did not improve from 0.81944\n",
      "Epoch 77/100\n",
      "861/861 [==============================] - 0s 37us/step - loss: 19.9854 - accuracy: 0.6969 - val_loss: 11.0956 - val_accuracy: 0.6019\n",
      "\n",
      "Epoch 00077: val_accuracy did not improve from 0.81944\n",
      "Epoch 78/100\n",
      "861/861 [==============================] - 0s 41us/step - loss: 21.2090 - accuracy: 0.6829 - val_loss: 30.6475 - val_accuracy: 0.2315\n",
      "\n",
      "Epoch 00078: val_accuracy did not improve from 0.81944\n",
      "Epoch 79/100\n",
      "861/861 [==============================] - 0s 39us/step - loss: 27.6538 - accuracy: 0.6957 - val_loss: 18.5354 - val_accuracy: 0.6343\n",
      "\n",
      "Epoch 00079: val_accuracy did not improve from 0.81944\n",
      "Epoch 80/100\n"
     ]
    },
    {
     "name": "stdout",
     "output_type": "stream",
     "text": [
      "861/861 [==============================] - 0s 34us/step - loss: 19.6710 - accuracy: 0.6783 - val_loss: 31.5692 - val_accuracy: 0.7778\n",
      "\n",
      "Epoch 00080: val_accuracy did not improve from 0.81944\n",
      "Epoch 81/100\n",
      "861/861 [==============================] - 0s 32us/step - loss: 37.4745 - accuracy: 0.7154 - val_loss: 17.6162 - val_accuracy: 0.7824\n",
      "\n",
      "Epoch 00081: val_accuracy did not improve from 0.81944\n",
      "Epoch 82/100\n",
      "861/861 [==============================] - 0s 34us/step - loss: 17.6483 - accuracy: 0.7201 - val_loss: 25.4136 - val_accuracy: 0.4676\n",
      "\n",
      "Epoch 00082: val_accuracy did not improve from 0.81944\n",
      "Epoch 83/100\n",
      "861/861 [==============================] - 0s 35us/step - loss: 38.2661 - accuracy: 0.6911 - val_loss: 23.3008 - val_accuracy: 0.6435\n",
      "\n",
      "Epoch 00083: val_accuracy did not improve from 0.81944\n",
      "Epoch 84/100\n",
      "861/861 [==============================] - 0s 36us/step - loss: 17.1241 - accuracy: 0.6934 - val_loss: 11.1772 - val_accuracy: 0.7963\n",
      "\n",
      "Epoch 00084: val_accuracy did not improve from 0.81944\n",
      "Epoch 85/100\n",
      "861/861 [==============================] - 0s 42us/step - loss: 12.3522 - accuracy: 0.7015 - val_loss: 22.9793 - val_accuracy: 0.5880\n",
      "\n",
      "Epoch 00085: val_accuracy did not improve from 0.81944\n",
      "Epoch 86/100\n",
      "861/861 [==============================] - 0s 44us/step - loss: 10.7891 - accuracy: 0.7015 - val_loss: 11.5778 - val_accuracy: 0.7870\n",
      "\n",
      "Epoch 00086: val_accuracy did not improve from 0.81944\n",
      "Epoch 87/100\n",
      "861/861 [==============================] - 0s 38us/step - loss: 14.1906 - accuracy: 0.6945 - val_loss: 12.2943 - val_accuracy: 0.7824\n",
      "\n",
      "Epoch 00087: val_accuracy did not improve from 0.81944\n",
      "Epoch 88/100\n",
      "861/861 [==============================] - 0s 38us/step - loss: 12.2954 - accuracy: 0.6852 - val_loss: 3.3401 - val_accuracy: 0.8056\n",
      "\n",
      "Epoch 00088: val_accuracy did not improve from 0.81944\n",
      "Epoch 89/100\n",
      "861/861 [==============================] - 0s 39us/step - loss: 8.4393 - accuracy: 0.7085 - val_loss: 5.6576 - val_accuracy: 0.7824\n",
      "\n",
      "Epoch 00089: val_accuracy did not improve from 0.81944\n",
      "Epoch 90/100\n",
      "861/861 [==============================] - ETA: 0s - loss: 5.9806 - accuracy: 0.65 - 0s 42us/step - loss: 19.2971 - accuracy: 0.7166 - val_loss: 20.0370 - val_accuracy: 0.5370\n",
      "\n",
      "Epoch 00090: val_accuracy did not improve from 0.81944\n",
      "Epoch 91/100\n",
      "861/861 [==============================] - 0s 41us/step - loss: 13.5262 - accuracy: 0.6713 - val_loss: 15.4279 - val_accuracy: 0.7269\n",
      "\n",
      "Epoch 00091: val_accuracy did not improve from 0.81944\n",
      "Epoch 92/100\n",
      "861/861 [==============================] - 0s 41us/step - loss: 16.6569 - accuracy: 0.7062 - val_loss: 34.8846 - val_accuracy: 0.7778\n",
      "\n",
      "Epoch 00092: val_accuracy did not improve from 0.81944\n",
      "Epoch 93/100\n",
      "861/861 [==============================] - ETA: 0s - loss: 47.9979 - accuracy: 0.656 - 0s 42us/step - loss: 24.6157 - accuracy: 0.6899 - val_loss: 39.1260 - val_accuracy: 0.7778\n",
      "\n",
      "Epoch 00093: val_accuracy did not improve from 0.81944\n",
      "Epoch 94/100\n",
      "861/861 [==============================] - 0s 42us/step - loss: 24.4636 - accuracy: 0.6957 - val_loss: 59.0825 - val_accuracy: 0.2222\n",
      "\n",
      "Epoch 00094: val_accuracy did not improve from 0.81944\n",
      "Epoch 95/100\n",
      "861/861 [==============================] - 0s 52us/step - loss: 22.7136 - accuracy: 0.6829 - val_loss: 40.4112 - val_accuracy: 0.7778\n",
      "\n",
      "Epoch 00095: val_accuracy did not improve from 0.81944\n",
      "Epoch 96/100\n",
      "861/861 [==============================] - 0s 47us/step - loss: 25.6819 - accuracy: 0.6980 - val_loss: 32.4140 - val_accuracy: 0.7778\n",
      "\n",
      "Epoch 00096: val_accuracy did not improve from 0.81944\n",
      "Epoch 97/100\n",
      "861/861 [==============================] - 0s 41us/step - loss: 16.9489 - accuracy: 0.7027 - val_loss: 17.9998 - val_accuracy: 0.7824\n",
      "\n",
      "Epoch 00097: val_accuracy did not improve from 0.81944\n",
      "Epoch 98/100\n",
      "861/861 [==============================] - 0s 44us/step - loss: 24.1009 - accuracy: 0.6771 - val_loss: 19.7683 - val_accuracy: 0.8009\n",
      "\n",
      "Epoch 00098: val_accuracy did not improve from 0.81944\n",
      "Epoch 99/100\n",
      "861/861 [==============================] - 0s 45us/step - loss: 20.5127 - accuracy: 0.7073 - val_loss: 23.6804 - val_accuracy: 0.7824\n",
      "\n",
      "Epoch 00099: val_accuracy did not improve from 0.81944\n",
      "Epoch 100/100\n",
      "861/861 [==============================] - 0s 49us/step - loss: 10.1457 - accuracy: 0.6957 - val_loss: 9.9145 - val_accuracy: 0.8148\n",
      "\n",
      "Epoch 00100: val_accuracy did not improve from 0.81944\n"
     ]
    }
   ],
   "source": [
    "history=model.fit(x_train,y_train_cat,epochs=100,callbacks=callbacks_list,validation_data=(x_test,y_test_cat),verbose=1)"
   ]
  },
  {
   "cell_type": "code",
   "execution_count": 47,
   "metadata": {
    "colab": {},
    "colab_type": "code",
    "id": "XC-oqMd-fKhK"
   },
   "outputs": [],
   "source": [
    "model.load_weights('Employee_weights-improvement_random-16-0.80.hdf5')"
   ]
  },
  {
   "cell_type": "code",
   "execution_count": 48,
   "metadata": {
    "colab": {
     "base_uri": "https://localhost:8080/",
     "height": 34
    },
    "colab_type": "code",
    "id": "NHrCboMOfVS2",
    "outputId": "d506a63d-88a8-455d-cc45-c0c5283b9c69"
   },
   "outputs": [
    {
     "name": "stdout",
     "output_type": "stream",
     "text": [
      "216/216 [==============================] - 0s 32us/step\n"
     ]
    }
   ],
   "source": [
    "Acc_ann=model.evaluate(x_test,y_test_cat)[1]"
   ]
  },
  {
   "cell_type": "code",
   "execution_count": 49,
   "metadata": {
    "colab": {
     "base_uri": "https://localhost:8080/",
     "height": 282
    },
    "colab_type": "code",
    "id": "W22dWX8zhZ_o",
    "outputId": "fc32ae8a-9610-4d61-eba7-286519369f33"
   },
   "outputs": [
    {
     "data": {
      "text/plain": [
       "<matplotlib.axes._subplots.AxesSubplot at 0x22c7b7e0e80>"
      ]
     },
     "execution_count": 49,
     "metadata": {},
     "output_type": "execute_result"
    },
    {
     "data": {
      "image/png": "[encoded data removed]",
      "text/plain": [
       "<Figure size 432x288 with 2 Axes>"
      ]
     },
     "metadata": {
      "needs_background": "light"
     },
     "output_type": "display_data"
    }
   ],
   "source": [
    "sns.heatmap(confusion_matrix(Model.predict_classes(x_test),y_test),annot=True,fmt='d')"
   ]
  },
  {
   "cell_type": "code",
   "execution_count": 50,
   "metadata": {
    "colab": {},
    "colab_type": "code",
    "id": "7Rq6S32efpKV"
   },
   "outputs": [],
   "source": [
    "rf=RandomForestClassifier(n_estimators=200)\n",
    "rf.fit(x_train,y_train)\n",
    "Acc_rf=rf.score(x_test,y_test)"
   ]
  },
  {
   "cell_type": "code",
   "execution_count": 51,
   "metadata": {
    "colab": {},
    "colab_type": "code",
    "id": "7JGobCErf5dx"
   },
   "outputs": [],
   "source": [
    "Knn=KNeighborsClassifier(n_neighbors=5)\n",
    "Knn.fit(x_train,y_train)\n",
    "Acc_Knn=Knn.score(x_test,y_test)"
   ]
  },
  {
   "cell_type": "markdown",
   "metadata": {
    "colab_type": "text",
    "id": "UN35QPn1gkRU"
   },
   "source": [
    "Accuracy for random over sampling"
   ]
  },
  {
   "cell_type": "code",
   "execution_count": 52,
   "metadata": {
    "colab": {
     "base_uri": "https://localhost:8080/",
     "height": 77
    },
    "colab_type": "code",
    "id": "he1NXkAkgGlK",
    "outputId": "75d266a6-7c28-4d60-ec93-7c935271a9ae"
   },
   "outputs": [
    {
     "data": {
      "text/html": [
       "<div>\n",
       "<style scoped>\n",
       "    .dataframe tbody tr th:only-of-type {\n",
       "        vertical-align: middle;\n",
       "    }\n",
       "\n",
       "    .dataframe tbody tr th {\n",
       "        vertical-align: top;\n",
       "    }\n",
       "\n",
       "    .dataframe thead th {\n",
       "        text-align: right;\n",
       "    }\n",
       "</style>\n",
       "<table border=\"1\" class=\"dataframe\">\n",
       "  <thead>\n",
       "    <tr style=\"text-align: right;\">\n",
       "      <th></th>\n",
       "      <th>RF</th>\n",
       "      <th>ANN</th>\n",
       "      <th>KNN</th>\n",
       "    </tr>\n",
       "  </thead>\n",
       "  <tbody>\n",
       "    <tr>\n",
       "      <th>over sampling</th>\n",
       "      <td>0.814815</td>\n",
       "      <td>0.800926</td>\n",
       "      <td>0.782407</td>\n",
       "    </tr>\n",
       "  </tbody>\n",
       "</table>\n",
       "</div>"
      ],
      "text/plain": [
       "                     RF       ANN       KNN\n",
       "over sampling  0.814815  0.800926  0.782407"
      ]
     },
     "execution_count": 52,
     "metadata": {},
     "output_type": "execute_result"
    }
   ],
   "source": [
    "acc_result1={'RF':Acc_rf,'ANN':Acc_ann,'KNN':Acc_Knn}\n",
    "Acc_result1=pd.DataFrame(acc_result1,index=['over sampling'])\n",
    "Acc_result1"
   ]
  },
  {
   "cell_type": "code",
   "execution_count": 53,
   "metadata": {
    "colab": {
     "base_uri": "https://localhost:8080/",
     "height": 106
    },
    "colab_type": "code",
    "id": "Mq69_YRGgrr2",
    "outputId": "91b2fbae-160e-4294-f606-fcfe21c4f60a"
   },
   "outputs": [
    {
     "data": {
      "text/html": [
       "<div>\n",
       "<style scoped>\n",
       "    .dataframe tbody tr th:only-of-type {\n",
       "        vertical-align: middle;\n",
       "    }\n",
       "\n",
       "    .dataframe tbody tr th {\n",
       "        vertical-align: top;\n",
       "    }\n",
       "\n",
       "    .dataframe thead th {\n",
       "        text-align: right;\n",
       "    }\n",
       "</style>\n",
       "<table border=\"1\" class=\"dataframe\">\n",
       "  <thead>\n",
       "    <tr style=\"text-align: right;\">\n",
       "      <th></th>\n",
       "      <th>RF</th>\n",
       "      <th>ANN</th>\n",
       "      <th>KNN</th>\n",
       "    </tr>\n",
       "  </thead>\n",
       "  <tbody>\n",
       "    <tr>\n",
       "      <th>Smote</th>\n",
       "      <td>0.922619</td>\n",
       "      <td>0.729167</td>\n",
       "      <td>0.764881</td>\n",
       "    </tr>\n",
       "    <tr>\n",
       "      <th>over sampling</th>\n",
       "      <td>0.814815</td>\n",
       "      <td>0.800926</td>\n",
       "      <td>0.782407</td>\n",
       "    </tr>\n",
       "  </tbody>\n",
       "</table>\n",
       "</div>"
      ],
      "text/plain": [
       "                     RF       ANN       KNN\n",
       "Smote          0.922619  0.729167  0.764881\n",
       "over sampling  0.814815  0.800926  0.782407"
      ]
     },
     "execution_count": 53,
     "metadata": {},
     "output_type": "execute_result"
    }
   ],
   "source": [
    "overall_accuracy=pd.concat((Acc_result,Acc_result1),axis=0)\n",
    "overall_accuracy"
   ]
  },
  {
   "cell_type": "code",
   "execution_count": null,
   "metadata": {},
   "outputs": [],
   "source": []
  }
 ],
 "metadata": {
  "colab": {
   "name": "EMPLOYEE_ATTRITION_final.ipynb",
   "provenance": [],
   "toc_visible": true
  },
  "kernelspec": {
   "display_name": "Python 3",
   "language": "python",
   "name": "python3"
  },
  "language_info": {
   "codemirror_mode": {
    "name": "ipython",
    "version": 3
   },
   "file_extension": ".py",
   "mimetype": "text/x-python",
   "name": "python",
   "nbconvert_exporter": "python",
   "pygments_lexer": "ipython3",
   "version": "3.7.1"
  }
 },
 "nbformat": 4,
 "nbformat_minor": 1
}
